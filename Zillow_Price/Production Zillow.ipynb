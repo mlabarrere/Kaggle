{
 "cells": [
  {
   "cell_type": "code",
   "execution_count": 4,
   "metadata": {
    "collapsed": true
   },
   "outputs": [],
   "source": [
    "from sklearn.metrics import mean_absolute_error\n",
    "from datetime import datetime\n",
    "from sklearn.model_selection import train_test_split\n",
    "import matplotlib.pyplot as plt\n",
    "%matplotlib inline\n",
    "import numpy as np\n",
    "import pandas as pd\n",
    "import gc\n",
    "RANDOM_SEED=42"
   ]
  },
  {
   "cell_type": "markdown",
   "metadata": {},
   "source": [
    "## Get Data"
   ]
  },
  {
   "cell_type": "code",
   "execution_count": 5,
   "metadata": {
    "collapsed": true
   },
   "outputs": [],
   "source": [
    "join_raw = pd.read_csv(\"Data/joined_data.csv\",\n",
    "                       error_bad_lines=False, \n",
    "                       index_col=False, \n",
    "                       dtype='unicode', \n",
    "                       keep_default_na=False)\n",
    "join_raw.drop(\"parcelid\",axis=1, inplace=True)"
   ]
  },
  {
   "cell_type": "code",
   "execution_count": 6,
   "metadata": {
    "collapsed": false
   },
   "outputs": [
    {
     "data": {
      "text/html": [
       "<div>\n",
       "<table border=\"1\" class=\"dataframe\">\n",
       "  <thead>\n",
       "    <tr style=\"text-align: right;\">\n",
       "      <th></th>\n",
       "      <th>logerror</th>\n",
       "      <th>transactiondate</th>\n",
       "      <th>airconditioningtypeid</th>\n",
       "      <th>architecturalstyletypeid</th>\n",
       "      <th>basementsqft</th>\n",
       "      <th>bathroomcnt</th>\n",
       "      <th>bedroomcnt</th>\n",
       "      <th>buildingclasstypeid</th>\n",
       "      <th>buildingqualitytypeid</th>\n",
       "      <th>calculatedbathnbr</th>\n",
       "      <th>...</th>\n",
       "      <th>numberofstories</th>\n",
       "      <th>fireplaceflag</th>\n",
       "      <th>structuretaxvaluedollarcnt</th>\n",
       "      <th>taxvaluedollarcnt</th>\n",
       "      <th>assessmentyear</th>\n",
       "      <th>landtaxvaluedollarcnt</th>\n",
       "      <th>taxamount</th>\n",
       "      <th>taxdelinquencyflag</th>\n",
       "      <th>taxdelinquencyyear</th>\n",
       "      <th>censustractandblock</th>\n",
       "    </tr>\n",
       "  </thead>\n",
       "  <tbody>\n",
       "    <tr>\n",
       "      <th>0</th>\n",
       "      <td>0.0276</td>\n",
       "      <td>2016-08-02</td>\n",
       "      <td>1</td>\n",
       "      <td></td>\n",
       "      <td></td>\n",
       "      <td>3.0</td>\n",
       "      <td>4.0</td>\n",
       "      <td></td>\n",
       "      <td>4</td>\n",
       "      <td>3.0</td>\n",
       "      <td>...</td>\n",
       "      <td></td>\n",
       "      <td></td>\n",
       "      <td>245180.0</td>\n",
       "      <td>567112.0</td>\n",
       "      <td>2015</td>\n",
       "      <td>321932.0</td>\n",
       "      <td>7219.18</td>\n",
       "      <td></td>\n",
       "      <td></td>\n",
       "      <td>60371132321020</td>\n",
       "    </tr>\n",
       "    <tr>\n",
       "      <th>1</th>\n",
       "      <td>-0.0182</td>\n",
       "      <td>2016-08-02</td>\n",
       "      <td>1</td>\n",
       "      <td></td>\n",
       "      <td></td>\n",
       "      <td>3.0</td>\n",
       "      <td>3.0</td>\n",
       "      <td></td>\n",
       "      <td>4</td>\n",
       "      <td>3.0</td>\n",
       "      <td>...</td>\n",
       "      <td></td>\n",
       "      <td></td>\n",
       "      <td>254691.0</td>\n",
       "      <td>459844.0</td>\n",
       "      <td>2015</td>\n",
       "      <td>205153.0</td>\n",
       "      <td>6901.09</td>\n",
       "      <td></td>\n",
       "      <td></td>\n",
       "      <td>60371132321019</td>\n",
       "    </tr>\n",
       "    <tr>\n",
       "      <th>2</th>\n",
       "      <td>-0.1009</td>\n",
       "      <td>2016-05-03</td>\n",
       "      <td>1</td>\n",
       "      <td></td>\n",
       "      <td></td>\n",
       "      <td>2.0</td>\n",
       "      <td>3.0</td>\n",
       "      <td></td>\n",
       "      <td>4</td>\n",
       "      <td>2.0</td>\n",
       "      <td>...</td>\n",
       "      <td></td>\n",
       "      <td></td>\n",
       "      <td>235114.0</td>\n",
       "      <td>384787.0</td>\n",
       "      <td>2015</td>\n",
       "      <td>149673.0</td>\n",
       "      <td>4876.61</td>\n",
       "      <td></td>\n",
       "      <td></td>\n",
       "      <td>60371132321020</td>\n",
       "    </tr>\n",
       "    <tr>\n",
       "      <th>3</th>\n",
       "      <td>-0.0121</td>\n",
       "      <td>2016-04-05</td>\n",
       "      <td>1</td>\n",
       "      <td></td>\n",
       "      <td></td>\n",
       "      <td>2.0</td>\n",
       "      <td>4.0</td>\n",
       "      <td></td>\n",
       "      <td>4</td>\n",
       "      <td>2.0</td>\n",
       "      <td>...</td>\n",
       "      <td></td>\n",
       "      <td></td>\n",
       "      <td>262309.0</td>\n",
       "      <td>437176.0</td>\n",
       "      <td>2015</td>\n",
       "      <td>174867.0</td>\n",
       "      <td>5560.07</td>\n",
       "      <td></td>\n",
       "      <td></td>\n",
       "      <td>60371132321020</td>\n",
       "    </tr>\n",
       "    <tr>\n",
       "      <th>4</th>\n",
       "      <td>-0.0481</td>\n",
       "      <td>2016-07-15</td>\n",
       "      <td>1</td>\n",
       "      <td></td>\n",
       "      <td></td>\n",
       "      <td>2.0</td>\n",
       "      <td>4.0</td>\n",
       "      <td></td>\n",
       "      <td>4</td>\n",
       "      <td>2.0</td>\n",
       "      <td>...</td>\n",
       "      <td></td>\n",
       "      <td></td>\n",
       "      <td>232037.0</td>\n",
       "      <td>382055.0</td>\n",
       "      <td>2015</td>\n",
       "      <td>150018.0</td>\n",
       "      <td>4878.25</td>\n",
       "      <td></td>\n",
       "      <td></td>\n",
       "      <td>60371132321007</td>\n",
       "    </tr>\n",
       "  </tbody>\n",
       "</table>\n",
       "<p>5 rows × 59 columns</p>\n",
       "</div>"
      ],
      "text/plain": [
       "  logerror transactiondate airconditioningtypeid architecturalstyletypeid  \\\n",
       "0   0.0276      2016-08-02                     1                            \n",
       "1  -0.0182      2016-08-02                     1                            \n",
       "2  -0.1009      2016-05-03                     1                            \n",
       "3  -0.0121      2016-04-05                     1                            \n",
       "4  -0.0481      2016-07-15                     1                            \n",
       "\n",
       "  basementsqft bathroomcnt bedroomcnt buildingclasstypeid  \\\n",
       "0                      3.0        4.0                       \n",
       "1                      3.0        3.0                       \n",
       "2                      2.0        3.0                       \n",
       "3                      2.0        4.0                       \n",
       "4                      2.0        4.0                       \n",
       "\n",
       "  buildingqualitytypeid calculatedbathnbr         ...         numberofstories  \\\n",
       "0                     4               3.0         ...                           \n",
       "1                     4               3.0         ...                           \n",
       "2                     4               2.0         ...                           \n",
       "3                     4               2.0         ...                           \n",
       "4                     4               2.0         ...                           \n",
       "\n",
       "  fireplaceflag structuretaxvaluedollarcnt taxvaluedollarcnt assessmentyear  \\\n",
       "0                                 245180.0          567112.0           2015   \n",
       "1                                 254691.0          459844.0           2015   \n",
       "2                                 235114.0          384787.0           2015   \n",
       "3                                 262309.0          437176.0           2015   \n",
       "4                                 232037.0          382055.0           2015   \n",
       "\n",
       "  landtaxvaluedollarcnt taxamount taxdelinquencyflag taxdelinquencyyear  \\\n",
       "0              321932.0   7219.18                                         \n",
       "1              205153.0   6901.09                                         \n",
       "2              149673.0   4876.61                                         \n",
       "3              174867.0   5560.07                                         \n",
       "4              150018.0   4878.25                                         \n",
       "\n",
       "  censustractandblock  \n",
       "0      60371132321020  \n",
       "1      60371132321019  \n",
       "2      60371132321020  \n",
       "3      60371132321020  \n",
       "4      60371132321007  \n",
       "\n",
       "[5 rows x 59 columns]"
      ]
     },
     "execution_count": 6,
     "metadata": {},
     "output_type": "execute_result"
    }
   ],
   "source": [
    "join_raw.head()"
   ]
  },
  {
   "cell_type": "markdown",
   "metadata": {},
   "source": [
    "## Format Data"
   ]
  },
  {
   "cell_type": "markdown",
   "metadata": {},
   "source": [
    "### First : In good format"
   ]
  },
  {
   "cell_type": "code",
   "execution_count": 7,
   "metadata": {
    "collapsed": true
   },
   "outputs": [],
   "source": [
    "join_raw=join_raw.apply(pd.to_numeric, errors='ignore')\n",
    "\n",
    "# Three boolean variables\n",
    "join_raw[\"hashottuborspa\"]=join_raw[\"hashottuborspa\"].astype('bool')\n",
    "join_raw[\"fireplaceflag\"]=join_raw[\"fireplaceflag\"].astype('bool')\n",
    "join_raw[\"taxdelinquencyflag\"]=join_raw[\"taxdelinquencyflag\"].astype('bool')\n",
    "\n",
    "# Two string variables \n",
    "join_raw[\"propertycountylandusecode\"]=join_raw[\"propertycountylandusecode\"].astype(str)\n",
    "join_raw[\"propertyzoningdesc\"]=join_raw[\"propertyzoningdesc\"].astype(str)"
   ]
  },
  {
   "cell_type": "markdown",
   "metadata": {},
   "source": [
    "### Second : Transform date"
   ]
  },
  {
   "cell_type": "code",
   "execution_count": 8,
   "metadata": {
    "collapsed": false
   },
   "outputs": [],
   "source": [
    "join_raw['transactiondate'] = join_raw['transactiondate'].apply(lambda x: datetime.strptime(x,\"%Y-%m-%d\"))\n",
    "join_raw['transactiondate'+\"_date\"] = [d.date() for d in join_raw['transactiondate']]\n",
    "join_raw['transactiondate'+'_weekdays'] = [d.strftime('%a') for d in join_raw['transactiondate']]\n",
    "join_raw = pd.concat([join_raw,pd.get_dummies(join_raw['transactiondate'+'_weekdays'])], axis=1)\n",
    "join_raw.drop('transactiondate'+'_weekdays', axis=1,inplace=True)"
   ]
  },
  {
   "cell_type": "code",
   "execution_count": 9,
   "metadata": {
    "collapsed": true
   },
   "outputs": [],
   "source": [
    "#join_raw=join_raw.apply(pd.to_numeric, errors='ignore')"
   ]
  },
  {
   "cell_type": "markdown",
   "metadata": {},
   "source": [
    "## Do clustering"
   ]
  },
  {
   "cell_type": "code",
   "execution_count": 10,
   "metadata": {
    "collapsed": true
   },
   "outputs": [],
   "source": [
    "from sklearn.cluster import MiniBatchKMeans"
   ]
  },
  {
   "cell_type": "code",
   "execution_count": 11,
   "metadata": {
    "collapsed": false
   },
   "outputs": [],
   "source": [
    "ms = MiniBatchKMeans(n_clusters=25, init='k-means++')"
   ]
  },
  {
   "cell_type": "code",
   "execution_count": 12,
   "metadata": {
    "collapsed": false
   },
   "outputs": [],
   "source": [
    "ms.fit(join_raw.loc[:, ['longitude', 'latitude']].as_matrix())\n",
    "join_raw['cl1'] = ms.labels_"
   ]
  },
  {
   "cell_type": "code",
   "execution_count": 13,
   "metadata": {
    "collapsed": false
   },
   "outputs": [
    {
     "name": "stderr",
     "output_type": "stream",
     "text": [
      "C:\\Users\\mlabarrere\\AppData\\Local\\Continuum\\Anaconda3\\lib\\site-packages\\matplotlib\\axes\\_axes.py:545: UserWarning: No labelled objects found. Use label='...' kwarg on individual plots.\n",
      "  warnings.warn(\"No labelled objects found. \"\n"
     ]
    },
    {
     "data": {
      "image/png": "[encoded data removed]",
      "text/plain": [
       "<matplotlib.figure.Figure at 0xdb098d0>"
      ]
     },
     "metadata": {},
     "output_type": "display_data"
    }
   ],
   "source": [
    "join_raw.plot(kind=\"scatter\", x=\"longitude\", y=\"latitude\", alpha=0.4,\n",
    "    figsize=(15,10),\n",
    "    c=\"cl1\", cmap=plt.get_cmap(\"jet\"), colorbar=True,\n",
    "    sharex=False)\n",
    "plt.legend()"
   ]
  },
  {
   "cell_type": "markdown",
   "metadata": {},
   "source": [
    "## Select and drop columns"
   ]
  },
  {
   "cell_type": "code",
   "execution_count": 14,
   "metadata": {
    "collapsed": true
   },
   "outputs": [],
   "source": [
    "join_raw=join_raw.select_dtypes(include=['int64','float64'])"
   ]
  },
  {
   "cell_type": "code",
   "execution_count": 15,
   "metadata": {
    "collapsed": false
   },
   "outputs": [],
   "source": [
    "join_raw.dropna(axis=1, \n",
    "                how='any', \n",
    "                thresh=70000, \n",
    "                subset=None, \n",
    "                inplace=True)"
   ]
  },
  {
   "cell_type": "code",
   "execution_count": 16,
   "metadata": {
    "collapsed": false
   },
   "outputs": [
    {
     "data": {
      "text/html": [
       "<div>\n",
       "<table border=\"1\" class=\"dataframe\">\n",
       "  <thead>\n",
       "    <tr style=\"text-align: right;\">\n",
       "      <th></th>\n",
       "      <th>logerror</th>\n",
       "      <th>bathroomcnt</th>\n",
       "      <th>bedroomcnt</th>\n",
       "      <th>calculatedbathnbr</th>\n",
       "      <th>calculatedfinishedsquarefeet</th>\n",
       "      <th>finishedsquarefeet12</th>\n",
       "      <th>fips</th>\n",
       "      <th>fullbathcnt</th>\n",
       "      <th>latitude</th>\n",
       "      <th>longitude</th>\n",
       "      <th>...</th>\n",
       "      <th>regionidcounty</th>\n",
       "      <th>regionidzip</th>\n",
       "      <th>roomcnt</th>\n",
       "      <th>yearbuilt</th>\n",
       "      <th>structuretaxvaluedollarcnt</th>\n",
       "      <th>taxvaluedollarcnt</th>\n",
       "      <th>assessmentyear</th>\n",
       "      <th>landtaxvaluedollarcnt</th>\n",
       "      <th>taxamount</th>\n",
       "      <th>censustractandblock</th>\n",
       "    </tr>\n",
       "  </thead>\n",
       "  <tbody>\n",
       "    <tr>\n",
       "      <th>0</th>\n",
       "      <td>0.0276</td>\n",
       "      <td>3.0</td>\n",
       "      <td>4.0</td>\n",
       "      <td>3.0</td>\n",
       "      <td>2538.0</td>\n",
       "      <td>2538.0</td>\n",
       "      <td>6037</td>\n",
       "      <td>3.0</td>\n",
       "      <td>34220381</td>\n",
       "      <td>-118620802</td>\n",
       "      <td>...</td>\n",
       "      <td>3101</td>\n",
       "      <td>96339.0</td>\n",
       "      <td>0.0</td>\n",
       "      <td>1978.0</td>\n",
       "      <td>245180.0</td>\n",
       "      <td>567112.0</td>\n",
       "      <td>2015</td>\n",
       "      <td>321932.0</td>\n",
       "      <td>7219.18</td>\n",
       "      <td>6.037113e+13</td>\n",
       "    </tr>\n",
       "    <tr>\n",
       "      <th>1</th>\n",
       "      <td>-0.0182</td>\n",
       "      <td>3.0</td>\n",
       "      <td>3.0</td>\n",
       "      <td>3.0</td>\n",
       "      <td>1589.0</td>\n",
       "      <td>1589.0</td>\n",
       "      <td>6037</td>\n",
       "      <td>3.0</td>\n",
       "      <td>34222040</td>\n",
       "      <td>-118622240</td>\n",
       "      <td>...</td>\n",
       "      <td>3101</td>\n",
       "      <td>96339.0</td>\n",
       "      <td>0.0</td>\n",
       "      <td>1959.0</td>\n",
       "      <td>254691.0</td>\n",
       "      <td>459844.0</td>\n",
       "      <td>2015</td>\n",
       "      <td>205153.0</td>\n",
       "      <td>6901.09</td>\n",
       "      <td>6.037113e+13</td>\n",
       "    </tr>\n",
       "    <tr>\n",
       "      <th>2</th>\n",
       "      <td>-0.1009</td>\n",
       "      <td>2.0</td>\n",
       "      <td>3.0</td>\n",
       "      <td>2.0</td>\n",
       "      <td>2411.0</td>\n",
       "      <td>2411.0</td>\n",
       "      <td>6037</td>\n",
       "      <td>2.0</td>\n",
       "      <td>34220427</td>\n",
       "      <td>-118618549</td>\n",
       "      <td>...</td>\n",
       "      <td>3101</td>\n",
       "      <td>96339.0</td>\n",
       "      <td>0.0</td>\n",
       "      <td>1973.0</td>\n",
       "      <td>235114.0</td>\n",
       "      <td>384787.0</td>\n",
       "      <td>2015</td>\n",
       "      <td>149673.0</td>\n",
       "      <td>4876.61</td>\n",
       "      <td>6.037113e+13</td>\n",
       "    </tr>\n",
       "    <tr>\n",
       "      <th>3</th>\n",
       "      <td>-0.0121</td>\n",
       "      <td>2.0</td>\n",
       "      <td>4.0</td>\n",
       "      <td>2.0</td>\n",
       "      <td>2232.0</td>\n",
       "      <td>2232.0</td>\n",
       "      <td>6037</td>\n",
       "      <td>2.0</td>\n",
       "      <td>34222390</td>\n",
       "      <td>-118618631</td>\n",
       "      <td>...</td>\n",
       "      <td>3101</td>\n",
       "      <td>96339.0</td>\n",
       "      <td>0.0</td>\n",
       "      <td>1973.0</td>\n",
       "      <td>262309.0</td>\n",
       "      <td>437176.0</td>\n",
       "      <td>2015</td>\n",
       "      <td>174867.0</td>\n",
       "      <td>5560.07</td>\n",
       "      <td>6.037113e+13</td>\n",
       "    </tr>\n",
       "    <tr>\n",
       "      <th>4</th>\n",
       "      <td>-0.0481</td>\n",
       "      <td>2.0</td>\n",
       "      <td>4.0</td>\n",
       "      <td>2.0</td>\n",
       "      <td>1882.0</td>\n",
       "      <td>1882.0</td>\n",
       "      <td>6037</td>\n",
       "      <td>2.0</td>\n",
       "      <td>34222544</td>\n",
       "      <td>-118617961</td>\n",
       "      <td>...</td>\n",
       "      <td>3101</td>\n",
       "      <td>96339.0</td>\n",
       "      <td>0.0</td>\n",
       "      <td>1973.0</td>\n",
       "      <td>232037.0</td>\n",
       "      <td>382055.0</td>\n",
       "      <td>2015</td>\n",
       "      <td>150018.0</td>\n",
       "      <td>4878.25</td>\n",
       "      <td>6.037113e+13</td>\n",
       "    </tr>\n",
       "  </tbody>\n",
       "</table>\n",
       "<p>5 rows × 24 columns</p>\n",
       "</div>"
      ],
      "text/plain": [
       "   logerror  bathroomcnt  bedroomcnt  calculatedbathnbr  \\\n",
       "0    0.0276          3.0         4.0                3.0   \n",
       "1   -0.0182          3.0         3.0                3.0   \n",
       "2   -0.1009          2.0         3.0                2.0   \n",
       "3   -0.0121          2.0         4.0                2.0   \n",
       "4   -0.0481          2.0         4.0                2.0   \n",
       "\n",
       "   calculatedfinishedsquarefeet  finishedsquarefeet12  fips  fullbathcnt  \\\n",
       "0                        2538.0                2538.0  6037          3.0   \n",
       "1                        1589.0                1589.0  6037          3.0   \n",
       "2                        2411.0                2411.0  6037          2.0   \n",
       "3                        2232.0                2232.0  6037          2.0   \n",
       "4                        1882.0                1882.0  6037          2.0   \n",
       "\n",
       "   latitude  longitude         ...           regionidcounty  regionidzip  \\\n",
       "0  34220381 -118620802         ...                     3101      96339.0   \n",
       "1  34222040 -118622240         ...                     3101      96339.0   \n",
       "2  34220427 -118618549         ...                     3101      96339.0   \n",
       "3  34222390 -118618631         ...                     3101      96339.0   \n",
       "4  34222544 -118617961         ...                     3101      96339.0   \n",
       "\n",
       "   roomcnt  yearbuilt  structuretaxvaluedollarcnt  taxvaluedollarcnt  \\\n",
       "0      0.0     1978.0                    245180.0           567112.0   \n",
       "1      0.0     1959.0                    254691.0           459844.0   \n",
       "2      0.0     1973.0                    235114.0           384787.0   \n",
       "3      0.0     1973.0                    262309.0           437176.0   \n",
       "4      0.0     1973.0                    232037.0           382055.0   \n",
       "\n",
       "   assessmentyear  landtaxvaluedollarcnt  taxamount  censustractandblock  \n",
       "0            2015               321932.0    7219.18         6.037113e+13  \n",
       "1            2015               205153.0    6901.09         6.037113e+13  \n",
       "2            2015               149673.0    4876.61         6.037113e+13  \n",
       "3            2015               174867.0    5560.07         6.037113e+13  \n",
       "4            2015               150018.0    4878.25         6.037113e+13  \n",
       "\n",
       "[5 rows x 24 columns]"
      ]
     },
     "execution_count": 16,
     "metadata": {},
     "output_type": "execute_result"
    }
   ],
   "source": [
    "join_raw.head()"
   ]
  },
  {
   "cell_type": "markdown",
   "metadata": {},
   "source": [
    "## Fill with median all missing values"
   ]
  },
  {
   "cell_type": "code",
   "execution_count": 17,
   "metadata": {
    "collapsed": false
   },
   "outputs": [],
   "source": [
    "def medianFiller(data_df):\n",
    "    # Create a median inputer\n",
    "    from sklearn.preprocessing import Imputer\n",
    "    imp = Imputer(missing_values='NaN',strategy='median', axis=1)\n",
    "    return pd.DataFrame(imp.fit_transform(data_df),columns=data_df.columns.values)"
   ]
  },
  {
   "cell_type": "code",
   "execution_count": 18,
   "metadata": {
    "collapsed": true
   },
   "outputs": [],
   "source": [
    "join_raw=medianFiller(join_raw)"
   ]
  },
  {
   "cell_type": "markdown",
   "metadata": {},
   "source": [
    "## Drop 90% of data... Low memory laptop :("
   ]
  },
  {
   "cell_type": "code",
   "execution_count": 19,
   "metadata": {
    "collapsed": true
   },
   "outputs": [],
   "source": [
    "join_raw=join_raw.sample(n=None, \n",
    "                         frac=0.2, \n",
    "                         replace=True, \n",
    "                         weights=None, \n",
    "                         random_state=RANDOM_SEED, \n",
    "                         axis=None\n",
    "                        )"
   ]
  },
  {
   "cell_type": "markdown",
   "metadata": {},
   "source": [
    "## Divide everything by everything"
   ]
  },
  {
   "cell_type": "code",
   "execution_count": null,
   "metadata": {
    "collapsed": false
   },
   "outputs": [],
   "source": [
    "nbcol=join_raw.shape[1]\n",
    "for col1 in range(1, nbcol):\n",
    "    for col2 in range(col1+1,nbcol):\n",
    "        col1_name=str(join_raw[[col1]].columns.values[0])\n",
    "        col2_name=str(join_raw[[col2]].columns.values[0])\n",
    "        new_col=col1_name+\"_per_\"+col2_name\n",
    "        print(new_col)\n",
    "        if join_raw[col2_name].any() == 0:\n",
    "            join_raw[str(new_col)]=float('nan')\n",
    "        else:\n",
    "            join_raw[str(new_col)]=(join_raw[col1_name]/join_raw[col2_name])"
   ]
  },
  {
   "cell_type": "code",
   "execution_count": null,
   "metadata": {
    "collapsed": false
   },
   "outputs": [],
   "source": [
    "join_raw.head()"
   ]
  },
  {
   "cell_type": "markdown",
   "metadata": {},
   "source": [
    "## Remplace inf values with median"
   ]
  },
  {
   "cell_type": "code",
   "execution_count": null,
   "metadata": {
    "collapsed": false
   },
   "outputs": [],
   "source": [
    "join_raw=join_raw.replace([np.inf, -np.inf], np.nan)\n",
    "join_raw=medianFiller(join_raw)"
   ]
  },
  {
   "cell_type": "markdown",
   "metadata": {},
   "source": [
    "## Create test and train set"
   ]
  },
  {
   "cell_type": "code",
   "execution_count": 20,
   "metadata": {
    "collapsed": false
   },
   "outputs": [
    {
     "data": {
      "text/plain": [
       "354"
      ]
     },
     "execution_count": 20,
     "metadata": {},
     "output_type": "execute_result"
    }
   ],
   "source": [
    "train_set, test_set = train_test_split(join_raw, \n",
    "                                       test_size=0.2, \n",
    "                                       random_state=RANDOM_SEED)\n",
    "del join_raw\n",
    "gc.collect()"
   ]
  },
  {
   "cell_type": "markdown",
   "metadata": {},
   "source": [
    "## Remove logerror outliers"
   ]
  },
  {
   "cell_type": "code",
   "execution_count": 21,
   "metadata": {
    "collapsed": true
   },
   "outputs": [],
   "source": [
    "logerror_avg = train_set['logerror'].mean()\n",
    "logerror_std = train_set['logerror'].std()\n",
    "\n",
    "train_set_outliers=train_set.where((train_set[\"logerror\"] < logerror_avg - 2*logerror_std) & \n",
    "                            (train_set[\"logerror\"] > logerror_avg + 2*logerror_std)\n",
    "                           )"
   ]
  },
  {
   "cell_type": "code",
   "execution_count": 22,
   "metadata": {
    "collapsed": true
   },
   "outputs": [],
   "source": [
    "train_set=train_set.where((train_set[\"logerror\"] >= logerror_avg - 2*logerror_std) & \n",
    "                            (train_set[\"logerror\"] <= logerror_avg + 2*logerror_std)\n",
    "                           )"
   ]
  },
  {
   "cell_type": "code",
   "execution_count": 23,
   "metadata": {
    "collapsed": true
   },
   "outputs": [],
   "source": [
    "train_set.dropna(axis=0, how='all', thresh=None, subset=None, inplace=True)"
   ]
  },
  {
   "cell_type": "markdown",
   "metadata": {
    "collapsed": false
   },
   "source": [
    "## Create train and test sets"
   ]
  },
  {
   "cell_type": "code",
   "execution_count": 24,
   "metadata": {
    "collapsed": false
   },
   "outputs": [],
   "source": [
    "Y_train=train_set[\"logerror\"]\n",
    "X_train=train_set.drop([\"logerror\"],axis=1,inplace=False)\n",
    "Y_test=test_set[\"logerror\"]\n",
    "X_test=test_set.drop([\"logerror\"],axis=1,inplace=False)"
   ]
  },
  {
   "cell_type": "code",
   "execution_count": 25,
   "metadata": {
    "collapsed": false
   },
   "outputs": [
    {
     "data": {
      "text/plain": [
       "24"
      ]
     },
     "execution_count": 25,
     "metadata": {},
     "output_type": "execute_result"
    }
   ],
   "source": [
    "del train_set_outliers\n",
    "del train_set\n",
    "del test_set\n",
    "del logerror_avg\n",
    "del logerror_std\n",
    "gc.collect()"
   ]
  },
  {
   "cell_type": "markdown",
   "metadata": {},
   "source": [
    "# Models"
   ]
  },
  {
   "cell_type": "code",
   "execution_count": null,
   "metadata": {
    "collapsed": true
   },
   "outputs": [],
   "source": [
    "to_drop=[\"bathroomcnt\", \"bedroomcnt\", \"calculatedbathnbr\", \"calculatedfinishedsquarefeet\", \"finishedsquarefeet12\", \"fips\", \"fullbathcnt\", \"latitude\", \"longitude\", \"lotsizesquarefeet\", \"propertylandusetypeid\", \"rawcensustractandblock\", \"regionidcity\", \"regionidcounty\", \"regionidzip\", \"roomcnt\", \"yearbuilt\", \"structuretaxvaluedollarcnt\", \"taxvaluedollarcnt\", \"assessmentyear\", \"landtaxvaluedollarcnt\", \"censustractandblock\", \"bathroomcnt_per_bedroomcnt\", \"bathroomcnt_per_calculatedbathnbr\", \"bathroomcnt_per_calculatedfinishedsquarefeet\", \"bathroomcnt_per_finishedsquarefeet12\", \"bathroomcnt_per_fullbathcnt\", \"bathroomcnt_per_latitude\", \"bathroomcnt_per_longitude\", \"bathroomcnt_per_lotsizesquarefeet\", \"bathroomcnt_per_propertylandusetypeid\", \"bathroomcnt_per_rawcensustractandblock\", \"bathroomcnt_per_regionidcity\", \"bathroomcnt_per_regionidcounty\", \"bathroomcnt_per_regionidzip\", \"bathroomcnt_per_yearbuilt\", \"bathroomcnt_per_taxvaluedollarcnt\", \"bathroomcnt_per_assessmentyear\", \"bathroomcnt_per_landtaxvaluedollarcnt\", \"bathroomcnt_per_taxamount\", \"bathroomcnt_per_censustractandblock\", \"bedroomcnt_per_calculatedbathnbr\", \"bedroomcnt_per_fips\", \"bedroomcnt_per_fullbathcnt\", \"bedroomcnt_per_latitude\", \"bedroomcnt_per_longitude\", \"bedroomcnt_per_lotsizesquarefeet\", \"bedroomcnt_per_propertylandusetypeid\", \"bedroomcnt_per_rawcensustractandblock\", \"bedroomcnt_per_regionidcity\", \"bedroomcnt_per_regionidcounty\", \"bedroomcnt_per_regionidzip\", \"bedroomcnt_per_yearbuilt\", \"bedroomcnt_per_structuretaxvaluedollarcnt\", \"bedroomcnt_per_taxvaluedollarcnt\", \"bedroomcnt_per_assessmentyear\", \"bedroomcnt_per_landtaxvaluedollarcnt\", \"bedroomcnt_per_taxamount\", \"bedroomcnt_per_censustractandblock\", \"calculatedbathnbr_per_calculatedfinishedsquarefeet\", \"calculatedbathnbr_per_finishedsquarefeet12\", \"calculatedbathnbr_per_fips\", \"calculatedbathnbr_per_fullbathcnt\", \"calculatedbathnbr_per_latitude\", \"calculatedbathnbr_per_longitude\", \"calculatedbathnbr_per_lotsizesquarefeet\", \"calculatedbathnbr_per_propertylandusetypeid\", \"calculatedbathnbr_per_rawcensustractandblock\", \"calculatedbathnbr_per_regionidcity\", \"calculatedbathnbr_per_regionidcounty\", \"calculatedbathnbr_per_regionidzip\", \"calculatedbathnbr_per_roomcnt\", \"calculatedbathnbr_per_structuretaxvaluedollarcnt\", \"calculatedbathnbr_per_taxvaluedollarcnt\", \"calculatedbathnbr_per_assessmentyear\", \"calculatedbathnbr_per_landtaxvaluedollarcnt\", \"calculatedbathnbr_per_taxamount\", \"calculatedbathnbr_per_censustractandblock\", \"calculatedfinishedsquarefeet_per_finishedsquarefeet12\", \"calculatedfinishedsquarefeet_per_fips\", \"calculatedfinishedsquarefeet_per_fullbathcnt\", \"calculatedfinishedsquarefeet_per_longitude\", \"calculatedfinishedsquarefeet_per_lotsizesquarefeet\", \"calculatedfinishedsquarefeet_per_propertylandusetypeid\", \"calculatedfinishedsquarefeet_per_rawcensustractandblock\", \"calculatedfinishedsquarefeet_per_regionidcity\", \"calculatedfinishedsquarefeet_per_regionidcounty\", \"calculatedfinishedsquarefeet_per_structuretaxvaluedollarcnt\", \"calculatedfinishedsquarefeet_per_taxvaluedollarcnt\", \"calculatedfinishedsquarefeet_per_landtaxvaluedollarcnt\", \"calculatedfinishedsquarefeet_per_censustractandblock\", \"finishedsquarefeet12_per_fips\", \"finishedsquarefeet12_per_fullbathcnt\", \"finishedsquarefeet12_per_latitude\", \"finishedsquarefeet12_per_longitude\", \"finishedsquarefeet12_per_lotsizesquarefeet\", \"finishedsquarefeet12_per_propertylandusetypeid\", \"finishedsquarefeet12_per_rawcensustractandblock\", \"finishedsquarefeet12_per_regionidcounty\", \"finishedsquarefeet12_per_regionidzip\", \"finishedsquarefeet12_per_yearbuilt\", \"finishedsquarefeet12_per_structuretaxvaluedollarcnt\", \"finishedsquarefeet12_per_taxvaluedollarcnt\", \"finishedsquarefeet12_per_assessmentyear\", \"finishedsquarefeet12_per_landtaxvaluedollarcnt\", \"finishedsquarefeet12_per_censustractandblock\", \"fips_per_latitude\", \"fips_per_longitude\", \"fips_per_lotsizesquarefeet\", \"fips_per_propertylandusetypeid\", \"fips_per_rawcensustractandblock\", \"fips_per_regionidcity\", \"fips_per_regionidcounty\", \"fips_per_regionidzip\", \"fips_per_roomcnt\", \"fips_per_yearbuilt\", \"fips_per_structuretaxvaluedollarcnt\", \"fips_per_taxvaluedollarcnt\", \"fips_per_assessmentyear\", \"fips_per_landtaxvaluedollarcnt\", \"fips_per_taxamount\", \"fips_per_censustractandblock\", \"fullbathcnt_per_latitude\", \"fullbathcnt_per_longitude\", \"fullbathcnt_per_lotsizesquarefeet\", \"fullbathcnt_per_propertylandusetypeid\", \"fullbathcnt_per_rawcensustractandblock\", \"fullbathcnt_per_regionidcity\", \"fullbathcnt_per_regionidcounty\", \"fullbathcnt_per_regionidzip\", \"fullbathcnt_per_roomcnt\", \"fullbathcnt_per_yearbuilt\", \"fullbathcnt_per_structuretaxvaluedollarcnt\", \"fullbathcnt_per_taxvaluedollarcnt\", \"fullbathcnt_per_assessmentyear\", \"fullbathcnt_per_landtaxvaluedollarcnt\", \"fullbathcnt_per_taxamount\", \"fullbathcnt_per_censustractandblock\", \"latitude_per_longitude\", \"latitude_per_lotsizesquarefeet\", \"latitude_per_rawcensustractandblock\", \"latitude_per_regionidcity\", \"latitude_per_regionidzip\", \"latitude_per_roomcnt\", \"latitude_per_structuretaxvaluedollarcnt\", \"latitude_per_assessmentyear\", \"latitude_per_landtaxvaluedollarcnt\", \"latitude_per_taxamount\", \"latitude_per_censustractandblock\", \"longitude_per_lotsizesquarefeet\", \"longitude_per_rawcensustractandblock\", \"longitude_per_regionidcounty\", \"longitude_per_yearbuilt\", \"longitude_per_structuretaxvaluedollarcnt\", \"longitude_per_taxvaluedollarcnt\", \"longitude_per_assessmentyear\", \"longitude_per_landtaxvaluedollarcnt\", \"longitude_per_taxamount\", \"longitude_per_censustractandblock\", \"lotsizesquarefeet_per_propertylandusetypeid\", \"lotsizesquarefeet_per_rawcensustractandblock\", \"lotsizesquarefeet_per_regionidcity\", \"lotsizesquarefeet_per_regionidcounty\", \"lotsizesquarefeet_per_regionidzip\", \"lotsizesquarefeet_per_yearbuilt\", \"lotsizesquarefeet_per_assessmentyear\", \"lotsizesquarefeet_per_landtaxvaluedollarcnt\", \"lotsizesquarefeet_per_censustractandblock\", \"propertylandusetypeid_per_rawcensustractandblock\", \"propertylandusetypeid_per_regionidcity\", \"propertylandusetypeid_per_regionidzip\", \"propertylandusetypeid_per_roomcnt\", \"propertylandusetypeid_per_yearbuilt\", \"propertylandusetypeid_per_taxvaluedollarcnt\", \"propertylandusetypeid_per_assessmentyear\", \"propertylandusetypeid_per_landtaxvaluedollarcnt\", \"propertylandusetypeid_per_taxamount\", \"propertylandusetypeid_per_censustractandblock\", \"rawcensustractandblock_per_regionidcity\", \"rawcensustractandblock_per_regionidcounty\", \"rawcensustractandblock_per_roomcnt\", \"rawcensustractandblock_per_yearbuilt\", \"rawcensustractandblock_per_structuretaxvaluedollarcnt\", \"rawcensustractandblock_per_assessmentyear\", \"rawcensustractandblock_per_landtaxvaluedollarcnt\", \"rawcensustractandblock_per_taxamount\", \"rawcensustractandblock_per_censustractandblock\", \"regionidcity_per_regionidcounty\", \"regionidcity_per_regionidzip\", \"regionidcity_per_roomcnt\", \"regionidcity_per_yearbuilt\", \"regionidcity_per_taxvaluedollarcnt\", \"regionidcity_per_assessmentyear\", \"regionidcity_per_landtaxvaluedollarcnt\", \"regionidcity_per_taxamount\", \"regionidcity_per_censustractandblock\", \"regionidcounty_per_yearbuilt\", \"regionidcounty_per_structuretaxvaluedollarcnt\", \"regionidcounty_per_taxvaluedollarcnt\", \"regionidcounty_per_assessmentyear\", \"regionidcounty_per_taxamount\", \"regionidzip_per_roomcnt\", \"regionidzip_per_yearbuilt\", \"regionidzip_per_structuretaxvaluedollarcnt\", \"regionidzip_per_taxvaluedollarcnt\", \"regionidzip_per_assessmentyear\", \"regionidzip_per_landtaxvaluedollarcnt\", \"regionidzip_per_taxamount\", \"regionidzip_per_censustractandblock\", \"roomcnt_per_yearbuilt\", \"roomcnt_per_structuretaxvaluedollarcnt\", \"roomcnt_per_taxvaluedollarcnt\", \"roomcnt_per_assessmentyear\", \"roomcnt_per_landtaxvaluedollarcnt\", \"roomcnt_per_taxamount\", \"roomcnt_per_censustractandblock\", \"yearbuilt_per_structuretaxvaluedollarcnt\", \"yearbuilt_per_taxvaluedollarcnt\", \"yearbuilt_per_assessmentyear\", \"yearbuilt_per_landtaxvaluedollarcnt\", \"yearbuilt_per_taxamount\", \"yearbuilt_per_censustractandblock\", \"structuretaxvaluedollarcnt_per_taxvaluedollarcnt\", \"structuretaxvaluedollarcnt_per_assessmentyear\", \"structuretaxvaluedollarcnt_per_landtaxvaluedollarcnt\", \"structuretaxvaluedollarcnt_per_censustractandblock\", \"taxvaluedollarcnt_per_assessmentyear\", \"taxvaluedollarcnt_per_landtaxvaluedollarcnt\", \"taxvaluedollarcnt_per_censustractandblock\", \"assessmentyear_per_landtaxvaluedollarcnt\", \"assessmentyear_per_taxamount\", \"assessmentyear_per_censustractandblock\", \"landtaxvaluedollarcnt_per_censustractandblock\", \"taxamount_per_censustractandblock\"]"
   ]
  },
  {
   "cell_type": "code",
   "execution_count": null,
   "metadata": {
    "collapsed": true
   },
   "outputs": [],
   "source": [
    "X_train.drop(to_drop,axis=1,inplace=True)\n",
    "X_test.drop(to_drop,axis=1,inplace=True)"
   ]
  },
  {
   "cell_type": "code",
   "execution_count": null,
   "metadata": {
    "collapsed": true
   },
   "outputs": [],
   "source": []
  },
  {
   "cell_type": "code",
   "execution_count": null,
   "metadata": {
    "collapsed": true
   },
   "outputs": [],
   "source": []
  },
  {
   "cell_type": "code",
   "execution_count": null,
   "metadata": {
    "collapsed": true
   },
   "outputs": [],
   "source": []
  },
  {
   "cell_type": "code",
   "execution_count": null,
   "metadata": {
    "collapsed": true
   },
   "outputs": [],
   "source": []
  },
  {
   "cell_type": "markdown",
   "metadata": {},
   "source": [
    "## Gradient Boosting"
   ]
  },
  {
   "cell_type": "code",
   "execution_count": null,
   "metadata": {
    "collapsed": true
   },
   "outputs": [],
   "source": [
    "from sklearn.ensemble import GradientBoostingRegressor"
   ]
  },
  {
   "cell_type": "code",
   "execution_count": null,
   "metadata": {
    "collapsed": true
   },
   "outputs": [],
   "source": [
    "gb_rg = GradientBoostingRegressor(loss='huber', \n",
    "                                  learning_rate=0.1, \n",
    "                                  n_estimators=10, \n",
    "                                  subsample=1.0, \n",
    "                                  criterion='mae', \n",
    "                                  min_samples_split=2, \n",
    "                                  min_samples_leaf=1, \n",
    "                                  min_weight_fraction_leaf=0.0, \n",
    "                                  max_depth=3, \n",
    "                                  min_impurity_split=1e-07, \n",
    "                                  init=None, \n",
    "                                  random_state=RANDOM_SEED, \n",
    "                                  max_features=None, \n",
    "                                  alpha=0.9, \n",
    "                                  verbose=3, \n",
    "                                  max_leaf_nodes=None, \n",
    "                                  warm_start=False, \n",
    "                                  presort='auto'\n",
    "                                 )"
   ]
  },
  {
   "cell_type": "code",
   "execution_count": null,
   "metadata": {
    "collapsed": false,
    "scrolled": false
   },
   "outputs": [],
   "source": [
    "gb_rg.fit(X_train, Y_train)"
   ]
  },
  {
   "cell_type": "code",
   "execution_count": null,
   "metadata": {
    "collapsed": true
   },
   "outputs": [],
   "source": [
    "y_pred_gb = gb_rg.predict(X_test)"
   ]
  },
  {
   "cell_type": "code",
   "execution_count": null,
   "metadata": {
    "collapsed": false
   },
   "outputs": [],
   "source": [
    "from sklearn.metrics import mean_absolute_error\n",
    "mean_absolute_error(Y_test, y_pred_gb)"
   ]
  },
  {
   "cell_type": "code",
   "execution_count": null,
   "metadata": {
    "collapsed": false
   },
   "outputs": [],
   "source": [
    "for name, score in zip(X_train.columns.values,gb_rg.feature_importances_):\n",
    "    print(name,score)"
   ]
  },
  {
   "cell_type": "code",
   "execution_count": null,
   "metadata": {
    "collapsed": true
   },
   "outputs": [],
   "source": []
  },
  {
   "cell_type": "code",
   "execution_count": null,
   "metadata": {
    "collapsed": true
   },
   "outputs": [],
   "source": []
  },
  {
   "cell_type": "code",
   "execution_count": null,
   "metadata": {
    "collapsed": true
   },
   "outputs": [],
   "source": []
  }
 ],
 "metadata": {
  "kernelspec": {
   "display_name": "Python [conda root]",
   "language": "python",
   "name": "conda-root-py"
  },
  "language_info": {
   "codemirror_mode": {
    "name": "ipython",
    "version": 3
   },
   "file_extension": ".py",
   "mimetype": "text/x-python",
   "name": "python",
   "nbconvert_exporter": "python",
   "pygments_lexer": "ipython3",
   "version": "3.5.2"
  }
 },
 "nbformat": 4,
 "nbformat_minor": 2
}
