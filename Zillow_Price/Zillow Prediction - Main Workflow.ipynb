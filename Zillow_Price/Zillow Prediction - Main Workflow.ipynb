{
 "cells": [
  {
   "cell_type": "markdown",
   "metadata": {},
   "source": [
    "# Zillow Prediction"
   ]
  },
  {
   "cell_type": "markdown",
   "metadata": {},
   "source": [
    "## A) Get the data"
   ]
  },
  {
   "cell_type": "markdown",
   "metadata": {},
   "source": [
    "### 1) List data needed & how much space to use"
   ]
  },
  {
   "cell_type": "markdown",
   "metadata": {},
   "source": [
    "We are given five files:\n",
    "1. properties_2016.csv - all the properties with their home features for 2016. Note: Some 2017 new properties don't have any data yet except for their parcelid's. Those data points should be populated when properties_2017.csv is available.\n",
    "2. properties_2017.csv - all the properties with their home features for 2017 (will be available on 10/2/2017)\n",
    "3. train_2016.csv - the training set with transactions from 1/1/2016 to 12/31/2016\n",
    "4. train_2017.csv - the training set with transactions from 1/1/2017 to 9/15/2017 (will be available on 10/2/2017)\n",
    "5. sample_submission.csv - a sample submission file in the correct format\n",
    "\n",
    "For now, the data is contained in:\n",
    "1. properties_2016.csv \n",
    "2. train_2016.csv\n",
    "\n",
    "Thus, we will work only with those two guys."
   ]
  },
  {
   "cell_type": "markdown",
   "metadata": {},
   "source": [
    "### 2) Get the data"
   ]
  },
  {
   "cell_type": "code",
   "execution_count": 1,
   "metadata": {
    "collapsed": true
   },
   "outputs": [],
   "source": [
    "import pandas as pd"
   ]
  },
  {
   "cell_type": "code",
   "execution_count": 2,
   "metadata": {
    "collapsed": true
   },
   "outputs": [],
   "source": [
    "#raw_train = pd.read_csv(\"Data/train_2016_v2.csv\")"
   ]
  },
  {
   "cell_type": "code",
   "execution_count": 3,
   "metadata": {
    "collapsed": true
   },
   "outputs": [],
   "source": [
    "#raw_train.info()"
   ]
  },
  {
   "cell_type": "code",
   "execution_count": 4,
   "metadata": {
    "collapsed": true
   },
   "outputs": [],
   "source": [
    "#raw_properties = pd.read_csv(\"Data/properties_2016.csv\",error_bad_lines=False, index_col=False, dtype='unicode')"
   ]
  },
  {
   "cell_type": "code",
   "execution_count": 5,
   "metadata": {
    "collapsed": true
   },
   "outputs": [],
   "source": [
    "#raw_properties.info()"
   ]
  },
  {
   "cell_type": "markdown",
   "metadata": {},
   "source": [
    "Here, I want to do a inner join, the properties file contains a lot of data and a lot of observations may be useless.\n",
    "\n",
    "Because my computer is so bad, I had to do an inner join on train.csv at the linux command line"
   ]
  },
  {
   "cell_type": "code",
   "execution_count": 32,
   "metadata": {
    "collapsed": true
   },
   "outputs": [],
   "source": [
    "join_raw = pd.read_csv(\"Data/joined_data.csv\",\n",
    "                       error_bad_lines=False, \n",
    "                       index_col=False, \n",
    "                       dtype='unicode', \n",
    "                       keep_default_na=False)"
   ]
  },
  {
   "cell_type": "code",
   "execution_count": 36,
   "metadata": {},
   "outputs": [
    {
     "name": "stdout",
     "output_type": "stream",
     "text": [
      "<class 'pandas.core.frame.DataFrame'>\n",
      "RangeIndex: 90275 entries, 0 to 90274\n",
      "Data columns (total 60 columns):\n",
      "parcelid                        90275 non-null int64\n",
      "logerror                        90275 non-null float64\n",
      "transactiondate                 90275 non-null datetime64[ns]\n",
      "airconditioningtypeid           28781 non-null float64\n",
      "architecturalstyletypeid        261 non-null float64\n",
      "basementsqft                    43 non-null float64\n",
      "bathroomcnt                     90275 non-null float64\n",
      "bedroomcnt                      90275 non-null float64\n",
      "buildingclasstypeid             16 non-null float64\n",
      "buildingqualitytypeid           57364 non-null float64\n",
      "calculatedbathnbr               89093 non-null float64\n",
      "decktypeid                      658 non-null float64\n",
      "finishedfloor1squarefeet        6856 non-null float64\n",
      "calculatedfinishedsquarefeet    89614 non-null float64\n",
      "finishedsquarefeet12            85596 non-null float64\n",
      "finishedsquarefeet13            33 non-null float64\n",
      "finishedsquarefeet15            3564 non-null float64\n",
      "finishedsquarefeet50            6856 non-null float64\n",
      "finishedsquarefeet6             421 non-null float64\n",
      "fips                            90275 non-null int64\n",
      "fireplacecnt                    9607 non-null float64\n",
      "fullbathcnt                     89093 non-null float64\n",
      "garagecarcnt                    29937 non-null float64\n",
      "garagetotalsqft                 29937 non-null float64\n",
      "hashottuborspa                  90275 non-null bool\n",
      "heatingorsystemtypeid           56080 non-null float64\n",
      "latitude                        90275 non-null int64\n",
      "longitude                       90275 non-null int64\n",
      "lotsizesquarefeet               80125 non-null float64\n",
      "poolcnt                         17901 non-null float64\n",
      "poolsizesum                     969 non-null float64\n",
      "pooltypeid10                    1161 non-null float64\n",
      "pooltypeid2                     1204 non-null float64\n",
      "pooltypeid7                     16697 non-null float64\n",
      "propertycountylandusecode       90275 non-null object\n",
      "propertylandusetypeid           90275 non-null int64\n",
      "propertyzoningdesc              90275 non-null object\n",
      "rawcensustractandblock          90275 non-null float64\n",
      "regionidcity                    88472 non-null float64\n",
      "regionidcounty                  90275 non-null int64\n",
      "regionidneighborhood            36012 non-null float64\n",
      "regionidzip                     90240 non-null float64\n",
      "roomcnt                         90275 non-null float64\n",
      "storytypeid                     43 non-null float64\n",
      "threequarterbathnbr             12009 non-null float64\n",
      "typeconstructiontypeid          299 non-null float64\n",
      "unitcnt                         58353 non-null float64\n",
      "yardbuildingsqft17              2646 non-null float64\n",
      "yardbuildingsqft26              95 non-null float64\n",
      "yearbuilt                       89519 non-null float64\n",
      "numberofstories                 20570 non-null float64\n",
      "fireplaceflag                   90275 non-null bool\n",
      "structuretaxvaluedollarcnt      89895 non-null float64\n",
      "taxvaluedollarcnt               90274 non-null float64\n",
      "assessmentyear                  90275 non-null int64\n",
      "landtaxvaluedollarcnt           90274 non-null float64\n",
      "taxamount                       90269 non-null float64\n",
      "taxdelinquencyflag              90275 non-null bool\n",
      "taxdelinquencyyear              1783 non-null float64\n",
      "censustractandblock             89670 non-null float64\n",
      "dtypes: bool(3), datetime64[ns](1), float64(47), int64(7), object(2)\n",
      "memory usage: 39.5+ MB\n"
     ]
    }
   ],
   "source": [
    "join_raw.info()"
   ]
  },
  {
   "cell_type": "markdown",
   "metadata": {},
   "source": [
    "### 3) Convert the data into good formats"
   ]
  },
  {
   "cell_type": "code",
   "execution_count": null,
   "metadata": {
    "collapsed": true
   },
   "outputs": [],
   "source": [
    "def createDummiesDateVar(data_Date, _dateVar):\n",
    "    from datetime import datetime\n",
    "    data_Date[_dateVar] = data_Date[_dateVar].apply(lambda x: datetime.strptime(x,\"%Y-%m-%d\"))\n",
    "    data_Date[_dateVar+\"_date\"] = [d.date() for d in data_Date[_dateVar]]\n",
    "    data_Date[_dateVar+'_weekdays'] = [d.strftime('%a') for d in data_Date[_dateVar]]\n",
    "    data_Date = pd.concat([data_Date,pd.get_dummies(data_Date[_dateVar+'_weekdays'])], axis=1)\n",
    "    data_Date.drop(_dateVar+'_weekdays', axis=1,inplace=True)\n",
    "    return data_Date"
   ]
  },
  {
   "cell_type": "code",
   "execution_count": 34,
   "metadata": {
    "collapsed": true
   },
   "outputs": [],
   "source": [
    "def convertorZillow(data_df):\n",
    "    # Set everything possible as integer/float\n",
    "    data_df=data_df.apply(pd.to_numeric, errors='ignore')\n",
    "    # Set te date into date format\n",
    "    data_df['transactiondate'] = pd.to_datetime(data_df['transactiondate'])\n",
    "    data_df=createDummiesDateVar(data_df,'transactiondate')\n",
    "    # Three boolean variables\n",
    "    data_df[\"hashottuborspa\"]=data_df[\"hashottuborspa\"].astype('bool')\n",
    "    data_df[\"fireplaceflag\"]=data_df[\"fireplaceflag\"].astype('bool')\n",
    "    data_df[\"taxdelinquencyflag\"]=data_df[\"taxdelinquencyflag\"].astype('bool')\n",
    "    # Two string variables \n",
    "    data_df[\"propertycountylandusecode\"]=data_df[\"propertycountylandusecode\"].astype(str)\n",
    "    data_df[\"propertyzoningdesc\"]=data_df[\"propertyzoningdesc\"].astype(str)\n",
    "    return data_df"
   ]
  },
  {
   "cell_type": "code",
   "execution_count": 35,
   "metadata": {
    "collapsed": true
   },
   "outputs": [],
   "source": [
    "join_raw=convertorZillow(join_raw)"
   ]
  },
  {
   "cell_type": "markdown",
   "metadata": {},
   "source": [
    "### 4) Sample a test set, put it aside and never look at it again"
   ]
  },
  {
   "cell_type": "code",
   "execution_count": 10,
   "metadata": {
    "collapsed": true
   },
   "outputs": [],
   "source": [
    "from sklearn.model_selection import train_test_split"
   ]
  },
  {
   "cell_type": "code",
   "execution_count": 37,
   "metadata": {
    "collapsed": true
   },
   "outputs": [],
   "source": [
    "train_set, test_set = train_test_split(join_raw, \n",
    "                                       test_size=0.2, \n",
    "                                       random_state=42)"
   ]
  },
  {
   "cell_type": "code",
   "execution_count": 12,
   "metadata": {
    "collapsed": true
   },
   "outputs": [],
   "source": [
    "del join_raw # RAM optimizer"
   ]
  },
  {
   "cell_type": "code",
   "execution_count": 13,
   "metadata": {},
   "outputs": [
    {
     "data": {
      "text/plain": [
       "214"
      ]
     },
     "execution_count": 13,
     "metadata": {},
     "output_type": "execute_result"
    }
   ],
   "source": [
    "import gc\n",
    "gc.collect()"
   ]
  },
  {
   "cell_type": "markdown",
   "metadata": {},
   "source": [
    "## B) Explore data to gain insight"
   ]
  },
  {
   "cell_type": "markdown",
   "metadata": {},
   "source": [
    "### 1) Study each attribute"
   ]
  },
  {
   "cell_type": "markdown",
   "metadata": {},
   "source": [
    "#### a) Check names, types and origins of variables"
   ]
  },
  {
   "cell_type": "code",
   "execution_count": 14,
   "metadata": {},
   "outputs": [
    {
     "data": {
      "text/html": [
       "<div>\n",
       "<table border=\"1\" class=\"dataframe\">\n",
       "  <thead>\n",
       "    <tr style=\"text-align: right;\">\n",
       "      <th></th>\n",
       "      <th>parcelid</th>\n",
       "      <th>logerror</th>\n",
       "      <th>transactiondate</th>\n",
       "      <th>airconditioningtypeid</th>\n",
       "      <th>architecturalstyletypeid</th>\n",
       "      <th>basementsqft</th>\n",
       "      <th>bathroomcnt</th>\n",
       "      <th>bedroomcnt</th>\n",
       "      <th>buildingclasstypeid</th>\n",
       "      <th>buildingqualitytypeid</th>\n",
       "      <th>...</th>\n",
       "      <th>numberofstories</th>\n",
       "      <th>fireplaceflag</th>\n",
       "      <th>structuretaxvaluedollarcnt</th>\n",
       "      <th>taxvaluedollarcnt</th>\n",
       "      <th>assessmentyear</th>\n",
       "      <th>landtaxvaluedollarcnt</th>\n",
       "      <th>taxamount</th>\n",
       "      <th>taxdelinquencyflag</th>\n",
       "      <th>taxdelinquencyyear</th>\n",
       "      <th>censustractandblock</th>\n",
       "    </tr>\n",
       "  </thead>\n",
       "  <tbody>\n",
       "    <tr>\n",
       "      <th>89031</th>\n",
       "      <td>17262590</td>\n",
       "      <td>-0.0101</td>\n",
       "      <td>2016-02-24</td>\n",
       "      <td>NaN</td>\n",
       "      <td>NaN</td>\n",
       "      <td>NaN</td>\n",
       "      <td>3.0</td>\n",
       "      <td>4.0</td>\n",
       "      <td>NaN</td>\n",
       "      <td>NaN</td>\n",
       "      <td>...</td>\n",
       "      <td>2.0</td>\n",
       "      <td>False</td>\n",
       "      <td>140000.0</td>\n",
       "      <td>398000.0</td>\n",
       "      <td>2015</td>\n",
       "      <td>258000.0</td>\n",
       "      <td>4484.82</td>\n",
       "      <td>False</td>\n",
       "      <td>NaN</td>\n",
       "      <td>6.111008e+13</td>\n",
       "    </tr>\n",
       "    <tr>\n",
       "      <th>37767</th>\n",
       "      <td>12206224</td>\n",
       "      <td>0.2639</td>\n",
       "      <td>2016-01-22</td>\n",
       "      <td>1.0</td>\n",
       "      <td>NaN</td>\n",
       "      <td>NaN</td>\n",
       "      <td>3.0</td>\n",
       "      <td>3.0</td>\n",
       "      <td>NaN</td>\n",
       "      <td>7.0</td>\n",
       "      <td>...</td>\n",
       "      <td>NaN</td>\n",
       "      <td>False</td>\n",
       "      <td>99129.0</td>\n",
       "      <td>130426.0</td>\n",
       "      <td>2015</td>\n",
       "      <td>31297.0</td>\n",
       "      <td>1626.66</td>\n",
       "      <td>False</td>\n",
       "      <td>NaN</td>\n",
       "      <td>6.037238e+13</td>\n",
       "    </tr>\n",
       "    <tr>\n",
       "      <th>446</th>\n",
       "      <td>10728095</td>\n",
       "      <td>-0.0131</td>\n",
       "      <td>2016-05-04</td>\n",
       "      <td>1.0</td>\n",
       "      <td>NaN</td>\n",
       "      <td>NaN</td>\n",
       "      <td>2.0</td>\n",
       "      <td>3.0</td>\n",
       "      <td>NaN</td>\n",
       "      <td>7.0</td>\n",
       "      <td>...</td>\n",
       "      <td>NaN</td>\n",
       "      <td>False</td>\n",
       "      <td>77390.0</td>\n",
       "      <td>100003.0</td>\n",
       "      <td>2015</td>\n",
       "      <td>22613.0</td>\n",
       "      <td>6332.96</td>\n",
       "      <td>False</td>\n",
       "      <td>NaN</td>\n",
       "      <td>6.037135e+13</td>\n",
       "    </tr>\n",
       "    <tr>\n",
       "      <th>5088</th>\n",
       "      <td>10877921</td>\n",
       "      <td>-0.0060</td>\n",
       "      <td>2016-07-15</td>\n",
       "      <td>NaN</td>\n",
       "      <td>NaN</td>\n",
       "      <td>NaN</td>\n",
       "      <td>4.0</td>\n",
       "      <td>8.0</td>\n",
       "      <td>NaN</td>\n",
       "      <td>7.0</td>\n",
       "      <td>...</td>\n",
       "      <td>NaN</td>\n",
       "      <td>False</td>\n",
       "      <td>114942.0</td>\n",
       "      <td>171461.0</td>\n",
       "      <td>2015</td>\n",
       "      <td>56519.0</td>\n",
       "      <td>2532.87</td>\n",
       "      <td>False</td>\n",
       "      <td>NaN</td>\n",
       "      <td>6.037123e+13</td>\n",
       "    </tr>\n",
       "    <tr>\n",
       "      <th>52321</th>\n",
       "      <td>12849787</td>\n",
       "      <td>-0.0080</td>\n",
       "      <td>2016-04-14</td>\n",
       "      <td>NaN</td>\n",
       "      <td>NaN</td>\n",
       "      <td>NaN</td>\n",
       "      <td>1.0</td>\n",
       "      <td>3.0</td>\n",
       "      <td>NaN</td>\n",
       "      <td>7.0</td>\n",
       "      <td>...</td>\n",
       "      <td>NaN</td>\n",
       "      <td>False</td>\n",
       "      <td>52254.0</td>\n",
       "      <td>261274.0</td>\n",
       "      <td>2015</td>\n",
       "      <td>209020.0</td>\n",
       "      <td>3410.51</td>\n",
       "      <td>False</td>\n",
       "      <td>NaN</td>\n",
       "      <td>6.037408e+13</td>\n",
       "    </tr>\n",
       "  </tbody>\n",
       "</table>\n",
       "<p>5 rows × 60 columns</p>\n",
       "</div>"
      ],
      "text/plain": [
       "       parcelid  logerror transactiondate  airconditioningtypeid  \\\n",
       "89031  17262590   -0.0101      2016-02-24                    NaN   \n",
       "37767  12206224    0.2639      2016-01-22                    1.0   \n",
       "446    10728095   -0.0131      2016-05-04                    1.0   \n",
       "5088   10877921   -0.0060      2016-07-15                    NaN   \n",
       "52321  12849787   -0.0080      2016-04-14                    NaN   \n",
       "\n",
       "       architecturalstyletypeid  basementsqft  bathroomcnt  bedroomcnt  \\\n",
       "89031                       NaN           NaN          3.0         4.0   \n",
       "37767                       NaN           NaN          3.0         3.0   \n",
       "446                         NaN           NaN          2.0         3.0   \n",
       "5088                        NaN           NaN          4.0         8.0   \n",
       "52321                       NaN           NaN          1.0         3.0   \n",
       "\n",
       "       buildingclasstypeid  buildingqualitytypeid         ...           \\\n",
       "89031                  NaN                    NaN         ...            \n",
       "37767                  NaN                    7.0         ...            \n",
       "446                    NaN                    7.0         ...            \n",
       "5088                   NaN                    7.0         ...            \n",
       "52321                  NaN                    7.0         ...            \n",
       "\n",
       "       numberofstories  fireplaceflag  structuretaxvaluedollarcnt  \\\n",
       "89031              2.0          False                    140000.0   \n",
       "37767              NaN          False                     99129.0   \n",
       "446                NaN          False                     77390.0   \n",
       "5088               NaN          False                    114942.0   \n",
       "52321              NaN          False                     52254.0   \n",
       "\n",
       "       taxvaluedollarcnt  assessmentyear  landtaxvaluedollarcnt  taxamount  \\\n",
       "89031           398000.0            2015               258000.0    4484.82   \n",
       "37767           130426.0            2015                31297.0    1626.66   \n",
       "446             100003.0            2015                22613.0    6332.96   \n",
       "5088            171461.0            2015                56519.0    2532.87   \n",
       "52321           261274.0            2015               209020.0    3410.51   \n",
       "\n",
       "       taxdelinquencyflag  taxdelinquencyyear  censustractandblock  \n",
       "89031               False                 NaN         6.111008e+13  \n",
       "37767               False                 NaN         6.037238e+13  \n",
       "446                 False                 NaN         6.037135e+13  \n",
       "5088                False                 NaN         6.037123e+13  \n",
       "52321               False                 NaN         6.037408e+13  \n",
       "\n",
       "[5 rows x 60 columns]"
      ]
     },
     "execution_count": 14,
     "metadata": {},
     "output_type": "execute_result"
    }
   ],
   "source": [
    "train_set.head()"
   ]
  },
  {
   "cell_type": "markdown",
   "metadata": {},
   "source": [
    "Ok, seems there is a lot of \"NaN\" values, we have to handle this"
   ]
  },
  {
   "cell_type": "markdown",
   "metadata": {},
   "source": [
    "#### b)  Missings values"
   ]
  },
  {
   "cell_type": "code",
   "execution_count": 15,
   "metadata": {
    "collapsed": true
   },
   "outputs": [],
   "source": [
    "#train_set.info()"
   ]
  },
  {
   "cell_type": "markdown",
   "metadata": {},
   "source": [
    "The train_set.info() command shows that some variables only have 27 or 29 non-null observations. \n",
    "\n",
    "That's a lot of missing values"
   ]
  },
  {
   "cell_type": "markdown",
   "metadata": {},
   "source": [
    "Let's drop for now variables with too much missing values, filling them will makes no sense"
   ]
  },
  {
   "cell_type": "code",
   "execution_count": 16,
   "metadata": {
    "collapsed": true
   },
   "outputs": [],
   "source": [
    "# Drop column with more than (72220-70000)=2220 NaN values \n",
    "train_set_nona=train_set.dropna(axis=1, \n",
    "                                how='any', \n",
    "                                thresh=70000, \n",
    "                                subset=None, \n",
    "                                inplace=False)"
   ]
  },
  {
   "cell_type": "code",
   "execution_count": 17,
   "metadata": {
    "collapsed": true
   },
   "outputs": [],
   "source": [
    "#train_set_nona.info()"
   ]
  },
  {
   "cell_type": "markdown",
   "metadata": {},
   "source": [
    "From 60 variables, we have now 29, fair enough. \n",
    "\n",
    "Now let's fill missing values with the median because for now, no outliers study have been made\n",
    "\n",
    "(Todo: do a better filling with clustering)"
   ]
  },
  {
   "cell_type": "code",
   "execution_count": 18,
   "metadata": {
    "collapsed": true
   },
   "outputs": [],
   "source": [
    "def medianFiller(data_df):\n",
    "    # Create a median inputer\n",
    "    from sklearn.preprocessing import Imputer\n",
    "    imp = Imputer(missing_values='NaN',strategy='median', axis=1)\n",
    "    return pd.DataFrame(imp.fit_transform(data_df),columns=data_df.columns.values)"
   ]
  },
  {
   "cell_type": "code",
   "execution_count": null,
   "metadata": {
    "collapsed": true
   },
   "outputs": [],
   "source": []
  },
  {
   "cell_type": "code",
   "execution_count": 19,
   "metadata": {
    "collapsed": true
   },
   "outputs": [],
   "source": [
    "# Get non-numerical variables\n",
    "non_num_var=[\"transactiondate\",\n",
    "             \"hashottuborspa\",\n",
    "             \"propertycountylandusecode\",\n",
    "            \"propertyzoningdesc\",\n",
    "            \"fireplaceflag\",\n",
    "            \"taxdelinquencyflag\"]"
   ]
  },
  {
   "cell_type": "code",
   "execution_count": 20,
   "metadata": {
    "collapsed": true
   },
   "outputs": [],
   "source": [
    "# Drop non-numerical variables\n",
    "train_set_nona_filled=train_set_nona.drop(non_num_var, axis=1, inplace=False)"
   ]
  },
  {
   "cell_type": "code",
   "execution_count": null,
   "metadata": {
    "collapsed": true
   },
   "outputs": [],
   "source": []
  },
  {
   "cell_type": "code",
   "execution_count": 21,
   "metadata": {
    "collapsed": true
   },
   "outputs": [],
   "source": [
    "# Add non numerical values\n",
    "train_clean=pd.concat([train_set_nona_filled,\n",
    "                       train_set_nona[non_num_var]])\n",
    "# train_clean is the new training set"
   ]
  },
  {
   "cell_type": "code",
   "execution_count": 22,
   "metadata": {},
   "outputs": [
    {
     "ename": "NameError",
     "evalue": "name 'imp' is not defined",
     "output_type": "error",
     "traceback": [
      "\u001b[1;31m---------------------------------------------------------------------------\u001b[0m",
      "\u001b[1;31mNameError\u001b[0m                                 Traceback (most recent call last)",
      "\u001b[1;32m<ipython-input-22-dcd36b1c7a52>\u001b[0m in \u001b[0;36m<module>\u001b[1;34m()\u001b[0m\n\u001b[0;32m      2\u001b[0m \u001b[1;32mdel\u001b[0m \u001b[0mtrain_set_nona_filled\u001b[0m\u001b[1;33m\u001b[0m\u001b[0m\n\u001b[0;32m      3\u001b[0m \u001b[1;32mdel\u001b[0m \u001b[0mtrain_set_nona\u001b[0m\u001b[1;33m\u001b[0m\u001b[0m\n\u001b[1;32m----> 4\u001b[1;33m \u001b[1;32mdel\u001b[0m \u001b[0mimp\u001b[0m\u001b[1;33m\u001b[0m\u001b[0m\n\u001b[0m\u001b[0;32m      5\u001b[0m \u001b[0mgc\u001b[0m\u001b[1;33m.\u001b[0m\u001b[0mcollect\u001b[0m\u001b[1;33m(\u001b[0m\u001b[1;33m)\u001b[0m\u001b[1;33m\u001b[0m\u001b[0m\n",
      "\u001b[1;31mNameError\u001b[0m: name 'imp' is not defined"
     ]
    }
   ],
   "source": [
    "# Clean my RAM\n",
    "del train_set_nona_filled\n",
    "del train_set_nona\n",
    "gc.collect()"
   ]
  },
  {
   "cell_type": "markdown",
   "metadata": {},
   "source": [
    "#### c) Noisiness and type of noise (stochastic, outliers, rounding error, etc..)"
   ]
  },
  {
   "cell_type": "markdown",
   "metadata": {},
   "source": [
    "Let's delete rows with the same value in each row"
   ]
  },
  {
   "cell_type": "code",
   "execution_count": 23,
   "metadata": {
    "collapsed": true
   },
   "outputs": [],
   "source": [
    "cols = list(train_clean)\n",
    "nunique = train_clean.apply(pd.Series.nunique)\n",
    "cols_to_drop = nunique[nunique == 1].index\n",
    "train_clean.drop(cols_to_drop, axis=1,inplace=True)\n",
    "train_clean.drop(\"yearbuilt\", axis=1,inplace=True) # Yearbuilt contains only 2015, but there is a little bug"
   ]
  },
  {
   "cell_type": "markdown",
   "metadata": {},
   "source": [
    "27 variables, now we need to know our outliers"
   ]
  },
  {
   "cell_type": "code",
   "execution_count": 24,
   "metadata": {},
   "outputs": [
    {
     "data": {
      "text/html": [
       "<div>\n",
       "<table border=\"1\" class=\"dataframe\">\n",
       "  <thead>\n",
       "    <tr style=\"text-align: right;\">\n",
       "      <th></th>\n",
       "      <th>bathroomcnt</th>\n",
       "      <th>bedroomcnt</th>\n",
       "      <th>calculatedbathnbr</th>\n",
       "      <th>calculatedfinishedsquarefeet</th>\n",
       "      <th>censustractandblock</th>\n",
       "      <th>fips</th>\n",
       "      <th>fireplaceflag</th>\n",
       "      <th>fullbathcnt</th>\n",
       "      <th>hashottuborspa</th>\n",
       "      <th>landtaxvaluedollarcnt</th>\n",
       "      <th>...</th>\n",
       "      <th>rawcensustractandblock</th>\n",
       "      <th>regionidcity</th>\n",
       "      <th>regionidcounty</th>\n",
       "      <th>regionidzip</th>\n",
       "      <th>roomcnt</th>\n",
       "      <th>structuretaxvaluedollarcnt</th>\n",
       "      <th>taxamount</th>\n",
       "      <th>taxdelinquencyflag</th>\n",
       "      <th>taxvaluedollarcnt</th>\n",
       "      <th>transactiondate</th>\n",
       "    </tr>\n",
       "  </thead>\n",
       "  <tbody>\n",
       "    <tr>\n",
       "      <th>89031</th>\n",
       "      <td>3.0</td>\n",
       "      <td>4.0</td>\n",
       "      <td>3.0</td>\n",
       "      <td>1769.0</td>\n",
       "      <td>6.111008e+13</td>\n",
       "      <td>6111.0</td>\n",
       "      <td>NaN</td>\n",
       "      <td>3.0</td>\n",
       "      <td>NaN</td>\n",
       "      <td>258000.0</td>\n",
       "      <td>...</td>\n",
       "      <td>6.111008e+07</td>\n",
       "      <td>27110.0</td>\n",
       "      <td>2061.0</td>\n",
       "      <td>97116.0</td>\n",
       "      <td>6.0</td>\n",
       "      <td>140000.0</td>\n",
       "      <td>4484.82</td>\n",
       "      <td>NaN</td>\n",
       "      <td>398000.0</td>\n",
       "      <td>NaT</td>\n",
       "    </tr>\n",
       "    <tr>\n",
       "      <th>37767</th>\n",
       "      <td>3.0</td>\n",
       "      <td>3.0</td>\n",
       "      <td>3.0</td>\n",
       "      <td>1304.0</td>\n",
       "      <td>6.037238e+13</td>\n",
       "      <td>6037.0</td>\n",
       "      <td>NaN</td>\n",
       "      <td>3.0</td>\n",
       "      <td>NaN</td>\n",
       "      <td>31297.0</td>\n",
       "      <td>...</td>\n",
       "      <td>6.037238e+07</td>\n",
       "      <td>12447.0</td>\n",
       "      <td>3101.0</td>\n",
       "      <td>96025.0</td>\n",
       "      <td>0.0</td>\n",
       "      <td>99129.0</td>\n",
       "      <td>1626.66</td>\n",
       "      <td>NaN</td>\n",
       "      <td>130426.0</td>\n",
       "      <td>NaT</td>\n",
       "    </tr>\n",
       "    <tr>\n",
       "      <th>446</th>\n",
       "      <td>2.0</td>\n",
       "      <td>3.0</td>\n",
       "      <td>2.0</td>\n",
       "      <td>1738.0</td>\n",
       "      <td>6.037135e+13</td>\n",
       "      <td>6037.0</td>\n",
       "      <td>NaN</td>\n",
       "      <td>2.0</td>\n",
       "      <td>NaN</td>\n",
       "      <td>22613.0</td>\n",
       "      <td>...</td>\n",
       "      <td>6.037135e+07</td>\n",
       "      <td>12447.0</td>\n",
       "      <td>3101.0</td>\n",
       "      <td>96342.0</td>\n",
       "      <td>0.0</td>\n",
       "      <td>77390.0</td>\n",
       "      <td>6332.96</td>\n",
       "      <td>NaN</td>\n",
       "      <td>100003.0</td>\n",
       "      <td>NaT</td>\n",
       "    </tr>\n",
       "    <tr>\n",
       "      <th>5088</th>\n",
       "      <td>4.0</td>\n",
       "      <td>8.0</td>\n",
       "      <td>4.0</td>\n",
       "      <td>3300.0</td>\n",
       "      <td>6.037123e+13</td>\n",
       "      <td>6037.0</td>\n",
       "      <td>NaN</td>\n",
       "      <td>4.0</td>\n",
       "      <td>NaN</td>\n",
       "      <td>56519.0</td>\n",
       "      <td>...</td>\n",
       "      <td>6.037123e+07</td>\n",
       "      <td>12447.0</td>\n",
       "      <td>3101.0</td>\n",
       "      <td>96375.0</td>\n",
       "      <td>0.0</td>\n",
       "      <td>114942.0</td>\n",
       "      <td>2532.87</td>\n",
       "      <td>NaN</td>\n",
       "      <td>171461.0</td>\n",
       "      <td>NaT</td>\n",
       "    </tr>\n",
       "    <tr>\n",
       "      <th>52321</th>\n",
       "      <td>1.0</td>\n",
       "      <td>3.0</td>\n",
       "      <td>1.0</td>\n",
       "      <td>984.0</td>\n",
       "      <td>6.037408e+13</td>\n",
       "      <td>6037.0</td>\n",
       "      <td>NaN</td>\n",
       "      <td>1.0</td>\n",
       "      <td>NaN</td>\n",
       "      <td>209020.0</td>\n",
       "      <td>...</td>\n",
       "      <td>6.037408e+07</td>\n",
       "      <td>22827.0</td>\n",
       "      <td>3101.0</td>\n",
       "      <td>96492.0</td>\n",
       "      <td>0.0</td>\n",
       "      <td>52254.0</td>\n",
       "      <td>3410.51</td>\n",
       "      <td>NaN</td>\n",
       "      <td>261274.0</td>\n",
       "      <td>NaT</td>\n",
       "    </tr>\n",
       "  </tbody>\n",
       "</table>\n",
       "<p>5 rows × 27 columns</p>\n",
       "</div>"
      ],
      "text/plain": [
       "       bathroomcnt  bedroomcnt  calculatedbathnbr  \\\n",
       "89031          3.0         4.0                3.0   \n",
       "37767          3.0         3.0                3.0   \n",
       "446            2.0         3.0                2.0   \n",
       "5088           4.0         8.0                4.0   \n",
       "52321          1.0         3.0                1.0   \n",
       "\n",
       "       calculatedfinishedsquarefeet  censustractandblock    fips  \\\n",
       "89031                        1769.0         6.111008e+13  6111.0   \n",
       "37767                        1304.0         6.037238e+13  6037.0   \n",
       "446                          1738.0         6.037135e+13  6037.0   \n",
       "5088                         3300.0         6.037123e+13  6037.0   \n",
       "52321                         984.0         6.037408e+13  6037.0   \n",
       "\n",
       "      fireplaceflag  fullbathcnt hashottuborspa  landtaxvaluedollarcnt  \\\n",
       "89031           NaN          3.0            NaN               258000.0   \n",
       "37767           NaN          3.0            NaN                31297.0   \n",
       "446             NaN          2.0            NaN                22613.0   \n",
       "5088            NaN          4.0            NaN                56519.0   \n",
       "52321           NaN          1.0            NaN               209020.0   \n",
       "\n",
       "            ...         rawcensustractandblock  regionidcity  regionidcounty  \\\n",
       "89031       ...                   6.111008e+07       27110.0          2061.0   \n",
       "37767       ...                   6.037238e+07       12447.0          3101.0   \n",
       "446         ...                   6.037135e+07       12447.0          3101.0   \n",
       "5088        ...                   6.037123e+07       12447.0          3101.0   \n",
       "52321       ...                   6.037408e+07       22827.0          3101.0   \n",
       "\n",
       "       regionidzip roomcnt  structuretaxvaluedollarcnt taxamount  \\\n",
       "89031      97116.0     6.0                    140000.0   4484.82   \n",
       "37767      96025.0     0.0                     99129.0   1626.66   \n",
       "446        96342.0     0.0                     77390.0   6332.96   \n",
       "5088       96375.0     0.0                    114942.0   2532.87   \n",
       "52321      96492.0     0.0                     52254.0   3410.51   \n",
       "\n",
       "       taxdelinquencyflag  taxvaluedollarcnt  transactiondate  \n",
       "89031                 NaN           398000.0              NaT  \n",
       "37767                 NaN           130426.0              NaT  \n",
       "446                   NaN           100003.0              NaT  \n",
       "5088                  NaN           171461.0              NaT  \n",
       "52321                 NaN           261274.0              NaT  \n",
       "\n",
       "[5 rows x 27 columns]"
      ]
     },
     "execution_count": 24,
     "metadata": {},
     "output_type": "execute_result"
    }
   ],
   "source": [
    "train_clean.head()"
   ]
  },
  {
   "cell_type": "code",
   "execution_count": null,
   "metadata": {
    "collapsed": true
   },
   "outputs": [],
   "source": []
  },
  {
   "cell_type": "markdown",
   "metadata": {},
   "source": [
    "#### d) Type of distributions"
   ]
  },
  {
   "cell_type": "markdown",
   "metadata": {},
   "source": [
    "#### e) Is variables useful?"
   ]
  },
  {
   "cell_type": "markdown",
   "metadata": {},
   "source": [
    "### 2) Identify target attribute"
   ]
  },
  {
   "cell_type": "markdown",
   "metadata": {},
   "source": [
    "### 3) Data viz"
   ]
  },
  {
   "cell_type": "markdown",
   "metadata": {},
   "source": [
    "### 4) Study correlations"
   ]
  },
  {
   "cell_type": "code",
   "execution_count": null,
   "metadata": {
    "collapsed": true
   },
   "outputs": [],
   "source": [
    "#corr_matrix=train_clean.corr()\n",
    "#corr_matrix[\"logerror\"].sort_values(ascending=False)"
   ]
  },
  {
   "cell_type": "markdown",
   "metadata": {},
   "source": [
    "### 5) Identify tranformations"
   ]
  },
  {
   "cell_type": "markdown",
   "metadata": {},
   "source": [
    "### 6) Identify extra data useful"
   ]
  },
  {
   "cell_type": "markdown",
   "metadata": {},
   "source": [
    "### 7) Documentation"
   ]
  },
  {
   "cell_type": "markdown",
   "metadata": {},
   "source": [
    "## C) Prepare the data to better expose the underlying data patters to ML algorithms"
   ]
  },
  {
   "cell_type": "markdown",
   "metadata": {},
   "source": [
    "## D) Explore many different models and short-list the best ones"
   ]
  },
  {
   "cell_type": "code",
   "execution_count": 25,
   "metadata": {
    "collapsed": true
   },
   "outputs": [],
   "source": [
    "from sklearn.ensemble import RandomForestClassifier\n",
    "from sklearn.ensemble import VotingClassifier\n",
    "from sklearn.linear_model import LogisticRegression\n",
    "\n",
    "log_clf = LogisticRegression(random_state=42)\n",
    "rnd_clf = RandomForestClassifier(random_state=42)\n",
    "\n",
    "voting_clf = VotingClassifier(\n",
    "    estimators=[('lr', log_clf), ('rf', rnd_clf)],\n",
    "    voting='hard')"
   ]
  },
  {
   "cell_type": "code",
   "execution_count": 26,
   "metadata": {},
   "outputs": [
    {
     "name": "stdout",
     "output_type": "stream",
     "text": [
      "<class 'pandas.core.frame.DataFrame'>\n",
      "Int64Index: 144440 entries, 89031 to 15795\n",
      "Data columns (total 27 columns):\n",
      "bathroomcnt                     72220 non-null float64\n",
      "bedroomcnt                      72220 non-null float64\n",
      "calculatedbathnbr               71251 non-null float64\n",
      "calculatedfinishedsquarefeet    71666 non-null float64\n",
      "censustractandblock             71724 non-null float64\n",
      "fips                            72220 non-null float64\n",
      "fireplaceflag                   72220 non-null object\n",
      "fullbathcnt                     71251 non-null float64\n",
      "hashottuborspa                  72220 non-null object\n",
      "landtaxvaluedollarcnt           72219 non-null float64\n",
      "latitude                        72220 non-null float64\n",
      "logerror                        72220 non-null float64\n",
      "longitude                       72220 non-null float64\n",
      "parcelid                        72220 non-null float64\n",
      "propertycountylandusecode       72220 non-null object\n",
      "propertylandusetypeid           72220 non-null float64\n",
      "propertyzoningdesc              72220 non-null object\n",
      "rawcensustractandblock          72220 non-null float64\n",
      "regionidcity                    70786 non-null float64\n",
      "regionidcounty                  72220 non-null float64\n",
      "regionidzip                     72196 non-null float64\n",
      "roomcnt                         72220 non-null float64\n",
      "structuretaxvaluedollarcnt      71904 non-null float64\n",
      "taxamount                       72214 non-null float64\n",
      "taxdelinquencyflag              72220 non-null object\n",
      "taxvaluedollarcnt               72219 non-null float64\n",
      "transactiondate                 72220 non-null datetime64[ns]\n",
      "dtypes: datetime64[ns](1), float64(21), object(5)\n",
      "memory usage: 30.9+ MB\n"
     ]
    }
   ],
   "source": [
    "train_clean.info()"
   ]
  },
  {
   "cell_type": "code",
   "execution_count": 27,
   "metadata": {
    "collapsed": true
   },
   "outputs": [],
   "source": [
    "Y=train_clean[\"logerror\"]"
   ]
  },
  {
   "cell_type": "code",
   "execution_count": 28,
   "metadata": {
    "collapsed": true
   },
   "outputs": [],
   "source": [
    "X=train_clean.drop(\"logerror\",axis=1,inplace=False)"
   ]
  },
  {
   "cell_type": "code",
   "execution_count": 30,
   "metadata": {},
   "outputs": [
    {
     "ename": "ValueError",
     "evalue": "y contains new labels: [ nan  nan  nan ...,  nan  nan  nan]",
     "output_type": "error",
     "traceback": [
      "\u001b[1;31m---------------------------------------------------------------------------\u001b[0m",
      "\u001b[1;31mValueError\u001b[0m                                Traceback (most recent call last)",
      "\u001b[1;32m<ipython-input-30-d55078d9fcc7>\u001b[0m in \u001b[0;36m<module>\u001b[1;34m()\u001b[0m\n\u001b[1;32m----> 1\u001b[1;33m \u001b[0mvoting_clf\u001b[0m\u001b[1;33m.\u001b[0m\u001b[0mfit\u001b[0m\u001b[1;33m(\u001b[0m\u001b[0mX\u001b[0m\u001b[1;33m,\u001b[0m \u001b[0mY\u001b[0m\u001b[1;33m)\u001b[0m\u001b[1;33m\u001b[0m\u001b[0m\n\u001b[0m",
      "\u001b[1;32mC:\\Users\\mlabarrere\\AppData\\Local\\Continuum\\Anaconda3\\lib\\site-packages\\sklearn\\ensemble\\voting_classifier.py\u001b[0m in \u001b[0;36mfit\u001b[1;34m(self, X, y, sample_weight)\u001b[0m\n\u001b[0;32m    158\u001b[0m         \u001b[0mself\u001b[0m\u001b[1;33m.\u001b[0m\u001b[0mestimators_\u001b[0m \u001b[1;33m=\u001b[0m \u001b[1;33m[\u001b[0m\u001b[1;33m]\u001b[0m\u001b[1;33m\u001b[0m\u001b[0m\n\u001b[0;32m    159\u001b[0m \u001b[1;33m\u001b[0m\u001b[0m\n\u001b[1;32m--> 160\u001b[1;33m         \u001b[0mtransformed_y\u001b[0m \u001b[1;33m=\u001b[0m \u001b[0mself\u001b[0m\u001b[1;33m.\u001b[0m\u001b[0mle_\u001b[0m\u001b[1;33m.\u001b[0m\u001b[0mtransform\u001b[0m\u001b[1;33m(\u001b[0m\u001b[0my\u001b[0m\u001b[1;33m)\u001b[0m\u001b[1;33m\u001b[0m\u001b[0m\n\u001b[0m\u001b[0;32m    161\u001b[0m \u001b[1;33m\u001b[0m\u001b[0m\n\u001b[0;32m    162\u001b[0m         self.estimators_ = Parallel(n_jobs=self.n_jobs)(\n",
      "\u001b[1;32mC:\\Users\\mlabarrere\\AppData\\Local\\Continuum\\Anaconda3\\lib\\site-packages\\sklearn\\preprocessing\\label.py\u001b[0m in \u001b[0;36mtransform\u001b[1;34m(self, y)\u001b[0m\n\u001b[0;32m    151\u001b[0m         \u001b[1;32mif\u001b[0m \u001b[0mlen\u001b[0m\u001b[1;33m(\u001b[0m\u001b[0mnp\u001b[0m\u001b[1;33m.\u001b[0m\u001b[0mintersect1d\u001b[0m\u001b[1;33m(\u001b[0m\u001b[0mclasses\u001b[0m\u001b[1;33m,\u001b[0m \u001b[0mself\u001b[0m\u001b[1;33m.\u001b[0m\u001b[0mclasses_\u001b[0m\u001b[1;33m)\u001b[0m\u001b[1;33m)\u001b[0m \u001b[1;33m<\u001b[0m \u001b[0mlen\u001b[0m\u001b[1;33m(\u001b[0m\u001b[0mclasses\u001b[0m\u001b[1;33m)\u001b[0m\u001b[1;33m:\u001b[0m\u001b[1;33m\u001b[0m\u001b[0m\n\u001b[0;32m    152\u001b[0m             \u001b[0mdiff\u001b[0m \u001b[1;33m=\u001b[0m \u001b[0mnp\u001b[0m\u001b[1;33m.\u001b[0m\u001b[0msetdiff1d\u001b[0m\u001b[1;33m(\u001b[0m\u001b[0mclasses\u001b[0m\u001b[1;33m,\u001b[0m \u001b[0mself\u001b[0m\u001b[1;33m.\u001b[0m\u001b[0mclasses_\u001b[0m\u001b[1;33m)\u001b[0m\u001b[1;33m\u001b[0m\u001b[0m\n\u001b[1;32m--> 153\u001b[1;33m             \u001b[1;32mraise\u001b[0m \u001b[0mValueError\u001b[0m\u001b[1;33m(\u001b[0m\u001b[1;34m\"y contains new labels: %s\"\u001b[0m \u001b[1;33m%\u001b[0m \u001b[0mstr\u001b[0m\u001b[1;33m(\u001b[0m\u001b[0mdiff\u001b[0m\u001b[1;33m)\u001b[0m\u001b[1;33m)\u001b[0m\u001b[1;33m\u001b[0m\u001b[0m\n\u001b[0m\u001b[0;32m    154\u001b[0m         \u001b[1;32mreturn\u001b[0m \u001b[0mnp\u001b[0m\u001b[1;33m.\u001b[0m\u001b[0msearchsorted\u001b[0m\u001b[1;33m(\u001b[0m\u001b[0mself\u001b[0m\u001b[1;33m.\u001b[0m\u001b[0mclasses_\u001b[0m\u001b[1;33m,\u001b[0m \u001b[0my\u001b[0m\u001b[1;33m)\u001b[0m\u001b[1;33m\u001b[0m\u001b[0m\n\u001b[0;32m    155\u001b[0m \u001b[1;33m\u001b[0m\u001b[0m\n",
      "\u001b[1;31mValueError\u001b[0m: y contains new labels: [ nan  nan  nan ...,  nan  nan  nan]"
     ]
    }
   ],
   "source": [
    "voting_clf.fit(X, Y)"
   ]
  },
  {
   "cell_type": "code",
   "execution_count": null,
   "metadata": {
    "collapsed": true
   },
   "outputs": [],
   "source": []
  },
  {
   "cell_type": "code",
   "execution_count": null,
   "metadata": {
    "collapsed": true
   },
   "outputs": [],
   "source": []
  },
  {
   "cell_type": "code",
   "execution_count": 31,
   "metadata": {},
   "outputs": [
    {
     "data": {
      "text/plain": [
       "89031   -0.0101\n",
       "37767    0.2639\n",
       "446     -0.0131\n",
       "5088    -0.0060\n",
       "52321   -0.0080\n",
       "61171   -0.0030\n",
       "77401    0.0040\n",
       "86657   -0.0243\n",
       "87327   -0.1098\n",
       "10608   -0.0111\n",
       "20665    0.0218\n",
       "90177   -0.0141\n",
       "69275   -0.0141\n",
       "54924    0.0440\n",
       "29490   -0.0222\n",
       "58556    0.0050\n",
       "24947    0.1142\n",
       "76381    0.0178\n",
       "1392     0.0030\n",
       "21111    0.0266\n",
       "2679     0.0040\n",
       "70187    0.1249\n",
       "71758    0.1638\n",
       "13902    0.0020\n",
       "44286   -0.0111\n",
       "39985    0.0208\n",
       "18886   -0.2549\n",
       "16174    0.0770\n",
       "84171    0.0149\n",
       "31290    0.0139\n",
       "          ...  \n",
       "59150       NaN\n",
       "2747        NaN\n",
       "18431       NaN\n",
       "84478       NaN\n",
       "25658       NaN\n",
       "71932       NaN\n",
       "28693       NaN\n",
       "85305       NaN\n",
       "53707       NaN\n",
       "83104       NaN\n",
       "5311        NaN\n",
       "67969       NaN\n",
       "64925       NaN\n",
       "62955       NaN\n",
       "59735       NaN\n",
       "769         NaN\n",
       "64820       NaN\n",
       "67221       NaN\n",
       "41090       NaN\n",
       "16023       NaN\n",
       "60263       NaN\n",
       "44131       NaN\n",
       "87498       NaN\n",
       "37194       NaN\n",
       "82386       NaN\n",
       "6265        NaN\n",
       "54886       NaN\n",
       "76820       NaN\n",
       "860         NaN\n",
       "15795       NaN\n",
       "Name: logerror, dtype: float64"
      ]
     },
     "execution_count": 31,
     "metadata": {},
     "output_type": "execute_result"
    }
   ],
   "source": [
    "Y"
   ]
  },
  {
   "cell_type": "code",
   "execution_count": null,
   "metadata": {
    "collapsed": true
   },
   "outputs": [],
   "source": []
  },
  {
   "cell_type": "markdown",
   "metadata": {},
   "source": [
    "## E) Fine-tune best models & combine them into a better solution"
   ]
  },
  {
   "cell_type": "markdown",
   "metadata": {},
   "source": [
    "## F) Present results"
   ]
  }
 ],
 "metadata": {
  "kernelspec": {
   "display_name": "Python 3",
   "language": "python",
   "name": "python3"
  },
  "language_info": {
   "codemirror_mode": {
    "name": "ipython",
    "version": 3
   },
   "file_extension": ".py",
   "mimetype": "text/x-python",
   "name": "python",
   "nbconvert_exporter": "python",
   "pygments_lexer": "ipython3",
   "version": "3.6.3"
  }
 },
 "nbformat": 4,
 "nbformat_minor": 1
}
