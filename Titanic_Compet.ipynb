{
 "cells": [
  {
   "cell_type": "markdown",
   "metadata": {},
   "source": [
    "# Titanic, pour rouler sur Arnaud"
   ]
  },
  {
   "cell_type": "markdown",
   "metadata": {},
   "source": [
    "## Init Random Seed"
   ]
  },
  {
   "cell_type": "code",
   "execution_count": null,
   "metadata": {
    "collapsed": false
   },
   "outputs": [],
   "source": [
    "import random\n",
    "RANDOM_SEED=random.randint(1,500)\n",
    "print(RANDOM_SEED)"
   ]
  },
  {
   "cell_type": "markdown",
   "metadata": {},
   "source": [
    "## Load Data"
   ]
  },
  {
   "cell_type": "code",
   "execution_count": null,
   "metadata": {
    "collapsed": true
   },
   "outputs": [],
   "source": [
    "import pandas as pd"
   ]
  },
  {
   "cell_type": "code",
   "execution_count": null,
   "metadata": {
    "collapsed": true
   },
   "outputs": [],
   "source": [
    "raw_data=pd.read_csv(\"Data/train.csv\")"
   ]
  },
  {
   "cell_type": "code",
   "execution_count": null,
   "metadata": {
    "collapsed": false
   },
   "outputs": [],
   "source": [
    "raw_data.head()"
   ]
  },
  {
   "cell_type": "markdown",
   "metadata": {},
   "source": [
    "## Make Train & Test Set"
   ]
  },
  {
   "cell_type": "code",
   "execution_count": null,
   "metadata": {
    "collapsed": true
   },
   "outputs": [],
   "source": [
    "from sklearn.model_selection import train_test_split"
   ]
  },
  {
   "cell_type": "code",
   "execution_count": null,
   "metadata": {
    "collapsed": false
   },
   "outputs": [],
   "source": [
    "train_set, test_set = train_test_split(raw_data, \n",
    "                                       test_size=0.2, \n",
    "                                       random_state=RANDOM_SEED, \n",
    "                                       stratify=raw_data[\"Survived\"]\n",
    "                                      )"
   ]
  },
  {
   "cell_type": "markdown",
   "metadata": {},
   "source": [
    "## Make Train and Validator Set"
   ]
  },
  {
   "cell_type": "code",
   "execution_count": null,
   "metadata": {
    "collapsed": false
   },
   "outputs": [],
   "source": [
    "train_set, validator_set = train_test_split(train_set, \n",
    "                                       test_size=0.2, \n",
    "                                       random_state=RANDOM_SEED, \n",
    "                                       #stratify=raw_data[\"Survived\"]\n",
    "                                      )"
   ]
  },
  {
   "cell_type": "markdown",
   "metadata": {},
   "source": [
    "## Preprocessing and Feature Engineering"
   ]
  },
  {
   "cell_type": "markdown",
   "metadata": {},
   "source": [
    "### Function Definition"
   ]
  },
  {
   "cell_type": "markdown",
   "metadata": {},
   "source": [
    "Passenger ID, Ticket and Cabin aren't used"
   ]
  },
  {
   "cell_type": "code",
   "execution_count": null,
   "metadata": {
    "collapsed": false
   },
   "outputs": [],
   "source": [
    "def datapreprocess(data):\n",
    "    data=data.apply(pd.to_numeric, errors='ignore')\n",
    "    \n",
    "    # Y and X\n",
    "    Y=data[\"Survived\"]\n",
    "    X=data.drop(\"Survived\", axis=1,inplace=False)\n",
    "    \n",
    "    # Drop Passenger ID\n",
    "    X.drop(\"PassengerId\", axis=1, inplace=True)\n",
    "    \n",
    "    # Work on Title\n",
    "    X['Title'] = X.Name.str.extract(r',\\s*([^\\.]*)\\s*\\.', expand=False)\n",
    "    X['Title'] = X['Title'].replace(['Lady', 'the Countess','Capt', 'Col','Don', 'Dr', 'Major', 'Rev', 'Sir', 'Jonkheer', 'Dona'], 'Rare')\n",
    "    X['Title'] = X['Title'].replace('Mlle', 'Miss')\n",
    "    X['Title'] = X['Title'].replace('Ms', 'Miss')\n",
    "    X['Title'] = X['Title'].replace('Mme', 'Mrs')\n",
    "    X=pd.concat([X,pd.get_dummies(X[\"Title\"])], axis=1)\n",
    "    X.drop(\"Title\", axis=1, inplace=True)\n",
    "    \n",
    "    # Work on Sex\n",
    "    X['Sex'] = X['Sex'].map( {'female': 0, 'male': 1} ).astype(int)\n",
    "    \n",
    "    # Work on Age\n",
    "    X['Age'].fillna(-9, inplace=True) # notify missing values to the algorithm\n",
    "    \n",
    "    # Work on Embarked\n",
    "    X['Embarked'] = X['Embarked'].fillna('S')\n",
    "    X['Embarked'] = X['Embarked'].map( {'S': 0, 'C': 1, 'Q': 2} ).astype(int)\n",
    "    \n",
    "    # Work on family size\n",
    "    X[\"FamilySize\"]=X[\"SibSp\"]+X[\"Parch\"]+1\n",
    "    X.drop(\"SibSp\", axis=1, inplace=True)\n",
    "    X.drop(\"Parch\", axis=1,inplace=True)\n",
    "    \n",
    "    X['IsAlone'] = 0\n",
    "    X.loc[X['FamilySize'] == 1, 'IsAlone'] = 1\n",
    "    \n",
    "    # Work on cabin\n",
    "    X['Has_Cabin'] = X[\"Cabin\"].apply(lambda x: 0 if type(x) == float else 1)\n",
    "    \n",
    "    # Exclude Objets\n",
    "    X=X.select_dtypes(exclude=['object'])\n",
    "    \n",
    "    # Work on fare\n",
    "    from sklearn.preprocessing import Imputer\n",
    "    imp = Imputer(missing_values='NaN',strategy='median', axis=1)\n",
    "    X=pd.DataFrame(imp.fit_transform(X),columns=X.columns.values)\n",
    "    \n",
    "    # Scale\n",
    "    #from sklearn import preprocessing\n",
    "    #X=pd.DataFrame(preprocessing.scale(X,axis=0))\n",
    "    \n",
    "    return X, Y"
   ]
  },
  {
   "cell_type": "markdown",
   "metadata": {},
   "source": [
    "### Train Set Preprocessing"
   ]
  },
  {
   "cell_type": "code",
   "execution_count": null,
   "metadata": {
    "collapsed": false
   },
   "outputs": [],
   "source": [
    "X_train,Y_train=datapreprocess(train_set)"
   ]
  },
  {
   "cell_type": "markdown",
   "metadata": {
    "collapsed": false
   },
   "source": [
    "### Validator Set Preprocessing"
   ]
  },
  {
   "cell_type": "code",
   "execution_count": null,
   "metadata": {
    "collapsed": true
   },
   "outputs": [],
   "source": [
    "X_valid,Y_valid=datapreprocess(validator_set)"
   ]
  },
  {
   "cell_type": "markdown",
   "metadata": {},
   "source": [
    "### Test Set Preprocessing"
   ]
  },
  {
   "cell_type": "code",
   "execution_count": null,
   "metadata": {
    "collapsed": true
   },
   "outputs": [],
   "source": [
    "X_test, Y_test=datapreprocess(test_set)"
   ]
  },
  {
   "cell_type": "markdown",
   "metadata": {},
   "source": [
    "## Correlation Print"
   ]
  },
  {
   "cell_type": "code",
   "execution_count": null,
   "metadata": {
    "collapsed": true
   },
   "outputs": [],
   "source": [
    "import matplotlib.pyplot as plt\n",
    "import seaborn as sns\n",
    "%matplotlib inline"
   ]
  },
  {
   "cell_type": "code",
   "execution_count": null,
   "metadata": {
    "collapsed": false
   },
   "outputs": [],
   "source": [
    "colormap = plt.cm.viridis\n",
    "plt.figure(figsize=(12,12))\n",
    "plt.title('Pearson Correlation of Features', y=1.05, size=15)\n",
    "sns.heatmap(X_train.astype(float).corr(),\n",
    "            linewidths=0.1,\n",
    "            vmax=1.0, \n",
    "            square=True, \n",
    "            cmap=colormap, \n",
    "            linecolor='white',\n",
    "            annot=True)"
   ]
  },
  {
   "cell_type": "markdown",
   "metadata": {},
   "source": [
    "## Models!"
   ]
  },
  {
   "cell_type": "markdown",
   "metadata": {},
   "source": [
    "Imports"
   ]
  },
  {
   "cell_type": "code",
   "execution_count": null,
   "metadata": {
    "collapsed": true
   },
   "outputs": [],
   "source": [
    "from sklearn.model_selection import GridSearchCV\n",
    "from sklearn.metrics import accuracy_score\n",
    "from sklearn.metrics import roc_auc_score"
   ]
  },
  {
   "cell_type": "markdown",
   "metadata": {},
   "source": [
    "## Logistic Regression"
   ]
  },
  {
   "cell_type": "markdown",
   "metadata": {},
   "source": [
    "### Logistic Regression Solo"
   ]
  },
  {
   "cell_type": "code",
   "execution_count": null,
   "metadata": {
    "collapsed": true
   },
   "outputs": [],
   "source": [
    "from sklearn.linear_model import LogisticRegression"
   ]
  },
  {
   "cell_type": "code",
   "execution_count": null,
   "metadata": {
    "collapsed": true
   },
   "outputs": [],
   "source": [
    "lg_clf=LogisticRegression(penalty='l2', \n",
    "                          dual=False, \n",
    "                          tol=0.0001, \n",
    "                          C=1.0, \n",
    "                          fit_intercept=True, \n",
    "                          intercept_scaling=1, \n",
    "                          class_weight=None, \n",
    "                          random_state=None, \n",
    "                          solver='liblinear', \n",
    "                          max_iter=100, \n",
    "                          multi_class='ovr', \n",
    "                          verbose=0, \n",
    "                          warm_start=False, \n",
    "                          n_jobs=-1)"
   ]
  },
  {
   "cell_type": "code",
   "execution_count": null,
   "metadata": {
    "collapsed": false
   },
   "outputs": [],
   "source": [
    "lg_clf.fit(X_train, Y_train)"
   ]
  },
  {
   "cell_type": "code",
   "execution_count": null,
   "metadata": {
    "collapsed": true
   },
   "outputs": [],
   "source": [
    "y_pred_lg = lg_clf.predict(X_test)"
   ]
  },
  {
   "cell_type": "code",
   "execution_count": null,
   "metadata": {
    "collapsed": false
   },
   "outputs": [],
   "source": [
    "print(\"Accuracy score : {} \\nROC score : {}\".format(\n",
    "                                                accuracy_score(Y_test, y_pred_lg), \n",
    "                                                roc_auc_score(Y_test, y_pred_lg)\n",
    "                                            )\n",
    "     )"
   ]
  },
  {
   "cell_type": "markdown",
   "metadata": {},
   "source": [
    "### Logistic Regression Grid Search"
   ]
  },
  {
   "cell_type": "code",
   "execution_count": null,
   "metadata": {
    "collapsed": false
   },
   "outputs": [],
   "source": [
    "params = {'penalty': ['l2'],\n",
    "          #'C':['1.0','10.0','100.0'],\n",
    "          'dual': [True, False],\n",
    "          'fit_intercept': [True, False],\n",
    "          'max_iter' : [50, 100, 200, 400]\n",
    "         }"
   ]
  },
  {
   "cell_type": "code",
   "execution_count": null,
   "metadata": {
    "collapsed": true
   },
   "outputs": [],
   "source": [
    "lg_gs_cv = GridSearchCV(LogisticRegression(random_state=RANDOM_SEED, n_jobs=-1), \n",
    "                              params,\n",
    "                              scoring='accuracy',\n",
    "                              n_jobs=-1, \n",
    "                              verbose=1)"
   ]
  },
  {
   "cell_type": "code",
   "execution_count": null,
   "metadata": {
    "collapsed": false
   },
   "outputs": [],
   "source": [
    "lg_gs_cv.fit(X_train, Y_train)"
   ]
  },
  {
   "cell_type": "code",
   "execution_count": null,
   "metadata": {
    "collapsed": false
   },
   "outputs": [],
   "source": [
    "lg_gs_cv.best_estimator_"
   ]
  },
  {
   "cell_type": "code",
   "execution_count": null,
   "metadata": {
    "collapsed": true
   },
   "outputs": [],
   "source": [
    "y_pred_cv_lg = lg_gs_cv.predict(X_test)"
   ]
  },
  {
   "cell_type": "code",
   "execution_count": null,
   "metadata": {
    "collapsed": false
   },
   "outputs": [],
   "source": [
    "print(\"Accuracy score : {} \\nROC score : {}\".format(\n",
    "                                                accuracy_score(Y_test, y_pred_cv_lg), \n",
    "                                                roc_auc_score(Y_test, y_pred_cv_lg)\n",
    "                                            )\n",
    "     )"
   ]
  },
  {
   "cell_type": "markdown",
   "metadata": {},
   "source": [
    "## Random Forest"
   ]
  },
  {
   "cell_type": "code",
   "execution_count": null,
   "metadata": {
    "collapsed": true
   },
   "outputs": [],
   "source": [
    "from sklearn.ensemble import RandomForestClassifier"
   ]
  },
  {
   "cell_type": "markdown",
   "metadata": {},
   "source": [
    "### Random Forest Solo"
   ]
  },
  {
   "cell_type": "code",
   "execution_count": null,
   "metadata": {
    "collapsed": true
   },
   "outputs": [],
   "source": [
    "rnd_clf = RandomForestClassifier(n_estimators=500, max_leaf_nodes=16, n_jobs=-1, random_state=RANDOM_SEED)"
   ]
  },
  {
   "cell_type": "code",
   "execution_count": null,
   "metadata": {
    "collapsed": false
   },
   "outputs": [],
   "source": [
    "rnd_clf.fit(X_train, Y_train)"
   ]
  },
  {
   "cell_type": "code",
   "execution_count": null,
   "metadata": {
    "collapsed": false
   },
   "outputs": [],
   "source": [
    "y_pred_rf = rnd_clf.predict(X_test)"
   ]
  },
  {
   "cell_type": "code",
   "execution_count": null,
   "metadata": {
    "collapsed": false
   },
   "outputs": [],
   "source": [
    "print(\"Accuracy score : {} \\nROC score : {}\".format(\n",
    "                                                accuracy_score(Y_test, y_pred_rf), \n",
    "                                                roc_auc_score(Y_test, y_pred_rf)\n",
    "                                            )\n",
    "     )"
   ]
  },
  {
   "cell_type": "markdown",
   "metadata": {},
   "source": [
    "### Random Forest Grid Search"
   ]
  },
  {
   "cell_type": "code",
   "execution_count": null,
   "metadata": {
    "collapsed": false
   },
   "outputs": [],
   "source": [
    "params = {'max_leaf_nodes': [4, 8, 12, 16, 18], \n",
    "          'n_estimators': [100, 250, 500],\n",
    "          'min_samples_leaf': list(range(1, 6)),\n",
    "          'min_samples_split' : list(range(2, 4))\n",
    "         }"
   ]
  },
  {
   "cell_type": "code",
   "execution_count": null,
   "metadata": {
    "collapsed": false
   },
   "outputs": [],
   "source": [
    "rf_gs_cv = GridSearchCV(RandomForestClassifier(random_state=RANDOM_SEED), \n",
    "                              params,\n",
    "                              scoring='accuracy',\n",
    "                              n_jobs=-1, \n",
    "                              verbose=1)"
   ]
  },
  {
   "cell_type": "code",
   "execution_count": null,
   "metadata": {
    "collapsed": false
   },
   "outputs": [],
   "source": [
    "rf_gs_cv.fit(X_train, Y_train)"
   ]
  },
  {
   "cell_type": "code",
   "execution_count": null,
   "metadata": {
    "collapsed": false
   },
   "outputs": [],
   "source": [
    "rf_gs_cv.best_estimator_"
   ]
  },
  {
   "cell_type": "code",
   "execution_count": null,
   "metadata": {
    "collapsed": false
   },
   "outputs": [],
   "source": [
    "y_pred_cv_rf = rf_gs_cv.predict(X_test)"
   ]
  },
  {
   "cell_type": "code",
   "execution_count": null,
   "metadata": {
    "collapsed": false
   },
   "outputs": [],
   "source": [
    "print(\"Accuracy score : {} \\nROC score : {}\".format(\n",
    "                                                accuracy_score(Y_test, y_pred_cv_rf), \n",
    "                                                roc_auc_score(Y_test, y_pred_cv_rf)\n",
    "                                            )\n",
    "     )"
   ]
  },
  {
   "cell_type": "markdown",
   "metadata": {
    "collapsed": true
   },
   "source": [
    "## Gradient Boosting"
   ]
  },
  {
   "cell_type": "code",
   "execution_count": null,
   "metadata": {
    "collapsed": true
   },
   "outputs": [],
   "source": [
    "from sklearn.ensemble import GradientBoostingClassifier"
   ]
  },
  {
   "cell_type": "markdown",
   "metadata": {},
   "source": [
    "### Gradient Boosting solo"
   ]
  },
  {
   "cell_type": "code",
   "execution_count": null,
   "metadata": {
    "collapsed": true
   },
   "outputs": [],
   "source": [
    "params = {'max_depth': 2, \n",
    "          'n_estimators': 3,\n",
    "          'learning_rate': 1.0,\n",
    "          'min_samples_leaf':1,\n",
    "          'min_samples_split':2,\n",
    "            'random_state':RANDOM_SEED\n",
    "         }"
   ]
  },
  {
   "cell_type": "code",
   "execution_count": null,
   "metadata": {
    "collapsed": true
   },
   "outputs": [],
   "source": [
    "gb_clf=GradientBoostingClassifier(max_depth=2, \n",
    "                                  n_estimators=3, \n",
    "                                  learning_rate=1.0,\n",
    "                                  min_samples_leaf=1,\n",
    "                                  min_samples_split=2,\n",
    "                                  random_state=RANDOM_SEED\n",
    "                                 )"
   ]
  },
  {
   "cell_type": "code",
   "execution_count": null,
   "metadata": {
    "collapsed": false
   },
   "outputs": [],
   "source": [
    "gb_clf.fit(X_train, Y_train)"
   ]
  },
  {
   "cell_type": "code",
   "execution_count": null,
   "metadata": {
    "collapsed": false
   },
   "outputs": [],
   "source": [
    "y_pred_gb = gb_clf.predict(X_test)"
   ]
  },
  {
   "cell_type": "code",
   "execution_count": null,
   "metadata": {
    "collapsed": false
   },
   "outputs": [],
   "source": [
    "print(\"Accuracy score : {} \\nROC score : {}\".format(\n",
    "                                                accuracy_score(Y_test, y_pred_gb), \n",
    "                                                roc_auc_score(Y_test, y_pred_gb)\n",
    "                                            )\n",
    "     )"
   ]
  },
  {
   "cell_type": "markdown",
   "metadata": {
    "collapsed": true
   },
   "source": [
    "### Gradient Boosting Grid Search"
   ]
  },
  {
   "cell_type": "code",
   "execution_count": null,
   "metadata": {
    "collapsed": false
   },
   "outputs": [],
   "source": [
    "params = {'max_depth': list(range(1, 6)), \n",
    "          'n_estimators': list(range(1,8)),\n",
    "          'learning_rate': [0.5, 1.0, 1.5, 2.0, 2.5, 3.0, 3.5, 4.0],\n",
    "          'min_samples_leaf':list(range(1,3)),\n",
    "          'min_samples_split':list(range(2,4))\n",
    "         }"
   ]
  },
  {
   "cell_type": "code",
   "execution_count": null,
   "metadata": {
    "collapsed": false
   },
   "outputs": [],
   "source": [
    "gb_gs_cv = GridSearchCV(GradientBoostingClassifier(random_state=RANDOM_SEED), \n",
    "                              params,\n",
    "                                scoring='accuracy',\n",
    "                              n_jobs=-1,\n",
    "                              verbose=1)"
   ]
  },
  {
   "cell_type": "code",
   "execution_count": null,
   "metadata": {
    "collapsed": false
   },
   "outputs": [],
   "source": [
    "gb_gs_cv.fit(X_train, Y_train)"
   ]
  },
  {
   "cell_type": "code",
   "execution_count": null,
   "metadata": {
    "collapsed": false
   },
   "outputs": [],
   "source": [
    "gb_gs_cv.best_estimator_"
   ]
  },
  {
   "cell_type": "code",
   "execution_count": null,
   "metadata": {
    "collapsed": true
   },
   "outputs": [],
   "source": [
    "y_pred_cv_gb = gb_gs_cv.predict(X_test)"
   ]
  },
  {
   "cell_type": "code",
   "execution_count": null,
   "metadata": {
    "collapsed": false
   },
   "outputs": [],
   "source": [
    "print(\"Accuracy score : {} \\nROC score : {}\".format(\n",
    "                                                accuracy_score(Y_test, y_pred_cv_gb), \n",
    "                                                roc_auc_score(Y_test, y_pred_cv_gb)\n",
    "                                            )\n",
    "     )"
   ]
  },
  {
   "cell_type": "markdown",
   "metadata": {},
   "source": [
    "## AdaBoost"
   ]
  },
  {
   "cell_type": "code",
   "execution_count": null,
   "metadata": {
    "collapsed": true
   },
   "outputs": [],
   "source": [
    "from sklearn.ensemble import AdaBoostClassifier"
   ]
  },
  {
   "cell_type": "markdown",
   "metadata": {},
   "source": [
    "### AdaBoost solo"
   ]
  },
  {
   "cell_type": "code",
   "execution_count": null,
   "metadata": {
    "collapsed": true
   },
   "outputs": [],
   "source": [
    "ada_clf=AdaBoostClassifier( n_estimators=200, \n",
    "                           algorithm=\"SAMME.R\", \n",
    "                           learning_rate=0.5, \n",
    "                           random_state=RANDOM_SEED\n",
    "                          )"
   ]
  },
  {
   "cell_type": "code",
   "execution_count": null,
   "metadata": {
    "collapsed": false
   },
   "outputs": [],
   "source": [
    "ada_clf.fit(X_train, Y_train)"
   ]
  },
  {
   "cell_type": "code",
   "execution_count": null,
   "metadata": {
    "collapsed": true
   },
   "outputs": [],
   "source": [
    "y_pred_ada = ada_clf.predict(X_test)"
   ]
  },
  {
   "cell_type": "code",
   "execution_count": null,
   "metadata": {
    "collapsed": false
   },
   "outputs": [],
   "source": [
    "print(\"Accuracy score : {} \\nROC score : {}\".format(\n",
    "                                                accuracy_score(Y_test, y_pred_ada), \n",
    "                                                roc_auc_score(Y_test, y_pred_ada)\n",
    "                                            )\n",
    "     )"
   ]
  },
  {
   "cell_type": "markdown",
   "metadata": {},
   "source": [
    "### AdaBoost Grid Search"
   ]
  },
  {
   "cell_type": "code",
   "execution_count": null,
   "metadata": {
    "collapsed": false
   },
   "outputs": [],
   "source": [
    "params = {'n_estimators':[50,100,200,300,400,500],\n",
    "          'learning_rate':[0.5,1.0,1.5,2.0,2.5]\n",
    "         }"
   ]
  },
  {
   "cell_type": "code",
   "execution_count": null,
   "metadata": {
    "collapsed": false
   },
   "outputs": [],
   "source": [
    "ada_gs_cv = GridSearchCV(AdaBoostClassifier(algorithm=\"SAMME.R\", random_state=RANDOM_SEED), \n",
    "                              params,\n",
    "                                scoring='accuracy',\n",
    "                              n_jobs=-1,\n",
    "                              verbose=1)"
   ]
  },
  {
   "cell_type": "code",
   "execution_count": null,
   "metadata": {
    "collapsed": false
   },
   "outputs": [],
   "source": [
    "ada_gs_cv.fit(X_train, Y_train)"
   ]
  },
  {
   "cell_type": "code",
   "execution_count": null,
   "metadata": {
    "collapsed": false
   },
   "outputs": [],
   "source": [
    "ada_gs_cv.best_estimator_"
   ]
  },
  {
   "cell_type": "code",
   "execution_count": null,
   "metadata": {
    "collapsed": true
   },
   "outputs": [],
   "source": [
    "y_pred_cv_ada = ada_gs_cv.predict(X_test)"
   ]
  },
  {
   "cell_type": "code",
   "execution_count": null,
   "metadata": {
    "collapsed": false
   },
   "outputs": [],
   "source": [
    "print(\"Accuracy score : {} \\nROC score : {}\".format(\n",
    "                                                accuracy_score(Y_test, y_pred_cv_ada), \n",
    "                                                roc_auc_score(Y_test, y_pred_cv_ada)\n",
    "                                            )\n",
    "     )"
   ]
  },
  {
   "cell_type": "markdown",
   "metadata": {
    "collapsed": true
   },
   "source": [
    "## Voting"
   ]
  },
  {
   "cell_type": "code",
   "execution_count": null,
   "metadata": {
    "collapsed": true
   },
   "outputs": [],
   "source": [
    "from sklearn.ensemble import VotingClassifier"
   ]
  },
  {
   "cell_type": "markdown",
   "metadata": {},
   "source": [
    "### Voting Solo"
   ]
  },
  {
   "cell_type": "code",
   "execution_count": null,
   "metadata": {
    "collapsed": true
   },
   "outputs": [],
   "source": [
    "voting_clf = VotingClassifier(\n",
    "    estimators=[ ('lg',lg_gs_cv.best_estimator_), \n",
    "                ('rf', rf_gs_cv.best_estimator_), \n",
    "                ('ada',gb_gs_cv.best_estimator_), \n",
    "                ('gb',ada_gs_cv.best_estimator_)\n",
    "               ],\n",
    "    weights=[1,1,1,1],\n",
    "    voting='soft')"
   ]
  },
  {
   "cell_type": "code",
   "execution_count": null,
   "metadata": {
    "collapsed": false
   },
   "outputs": [],
   "source": [
    "voting_clf.fit(X_train, Y_train)"
   ]
  },
  {
   "cell_type": "code",
   "execution_count": null,
   "metadata": {
    "collapsed": true
   },
   "outputs": [],
   "source": [
    "y_pred_vot = voting_clf.predict(X_test)"
   ]
  },
  {
   "cell_type": "code",
   "execution_count": null,
   "metadata": {
    "collapsed": false
   },
   "outputs": [],
   "source": [
    "print(\"Accuracy score : {} \\nROC score : {}\".format(\n",
    "                                                accuracy_score(Y_test, y_pred_vot), \n",
    "                                                roc_auc_score(Y_test, y_pred_vot)\n",
    "                                            )\n",
    "     )"
   ]
  },
  {
   "cell_type": "markdown",
   "metadata": {},
   "source": [
    "### Voting Grid Search"
   ]
  },
  {
   "cell_type": "code",
   "execution_count": null,
   "metadata": {
    "collapsed": false
   },
   "outputs": [],
   "source": [
    "min_vot=-2\n",
    "max_vot=5\n",
    "params = {'weights': [[1,1,1,1],[2,1,1,1], [1,2,1,1],[1,1,2,1],[1,1,1,2],[2,2,1,1],[2,2,2,1],[1,2,2,1],[1,1,2,2]], \n",
    "          'voting': ['hard', 'soft']\n",
    "         }"
   ]
  },
  {
   "cell_type": "code",
   "execution_count": null,
   "metadata": {
    "collapsed": false
   },
   "outputs": [],
   "source": [
    "vot_gs_cv = GridSearchCV(VotingClassifier(\n",
    "    estimators=[ ('lg',lg_gs_cv.best_estimator_), \n",
    "                ('rf', rf_gs_cv.best_estimator_), \n",
    "                ('ada',gb_gs_cv.best_estimator_), \n",
    "                ('gb',ada_gs_cv.best_estimator_)\n",
    "               ]), \n",
    "                              params,\n",
    "                              scoring='accuracy',\n",
    "                              n_jobs=-1, \n",
    "                              verbose=1)"
   ]
  },
  {
   "cell_type": "code",
   "execution_count": null,
   "metadata": {
    "collapsed": false
   },
   "outputs": [],
   "source": [
    "vot_gs_cv.fit(X_train, Y_train)"
   ]
  },
  {
   "cell_type": "code",
   "execution_count": null,
   "metadata": {
    "collapsed": false
   },
   "outputs": [],
   "source": [
    "vot_gs_cv.best_estimator_"
   ]
  },
  {
   "cell_type": "code",
   "execution_count": null,
   "metadata": {
    "collapsed": false
   },
   "outputs": [],
   "source": [
    "y_pred_cv_vot = vot_gs_cv.predict(X_test)"
   ]
  },
  {
   "cell_type": "code",
   "execution_count": null,
   "metadata": {
    "collapsed": false
   },
   "outputs": [],
   "source": [
    "print(\"Accuracy score : {} \\nROC score : {}\".format(\n",
    "                                                accuracy_score(Y_test, y_pred_cv_vot), \n",
    "                                                roc_auc_score(Y_test, y_pred_cv_vot)\n",
    "                                            )\n",
    "     )"
   ]
  },
  {
   "cell_type": "markdown",
   "metadata": {},
   "source": [
    "## Summary"
   ]
  },
  {
   "cell_type": "code",
   "execution_count": null,
   "metadata": {
    "collapsed": false,
    "scrolled": true
   },
   "outputs": [],
   "source": [
    "for clf in (lg_gs_cv.best_estimator_, \n",
    "            rf_gs_cv.best_estimator_, \n",
    "            ada_gs_cv.best_estimator_, \n",
    "            gb_gs_cv.best_estimator_, \n",
    "            vot_gs_cv.best_estimator_):\n",
    "    clf.fit(X_train,Y_train)\n",
    "    y_pred = clf.predict(X_test)\n",
    "    print(str(clf.__class__.__name__)+\" : \"+ str(accuracy_score(Y_test, y_pred)))"
   ]
  },
  {
   "cell_type": "markdown",
   "metadata": {},
   "source": [
    "## Stacking"
   ]
  },
  {
   "cell_type": "code",
   "execution_count": null,
   "metadata": {
    "collapsed": false
   },
   "outputs": [],
   "source": [
    "import plotly.offline as py\n",
    "py.init_notebook_mode(connected=True)\n",
    "import plotly.graph_objs as go\n",
    "import plotly.tools as tls"
   ]
  },
  {
   "cell_type": "code",
   "execution_count": null,
   "metadata": {
    "collapsed": false
   },
   "outputs": [],
   "source": [
    "base_predictions_train = pd.DataFrame( \n",
    "    {'LogisticRegression': y_pred_cv_lg,\n",
    "     'RandomForest': y_pred_cv_rf,\n",
    "    'GradientBoost': y_pred_cv_gb,\n",
    "     'AdaBoost': y_pred_cv_ada,\n",
    "     'Voting' : y_pred_cv_vot\n",
    "    })\n",
    "base_predictions_train.head()"
   ]
  },
  {
   "cell_type": "code",
   "execution_count": null,
   "metadata": {
    "collapsed": false
   },
   "outputs": [],
   "source": [
    "data = [\n",
    "    go.Heatmap(\n",
    "        z= base_predictions_train.astype(float).corr().values ,\n",
    "        x=base_predictions_train.columns.values,\n",
    "        y= base_predictions_train.columns.values,\n",
    "          colorscale='Portland',\n",
    "            showscale=True,\n",
    "            reversescale = True\n",
    "    )\n",
    "]\n",
    "py.iplot(data, filename='labelled-heatmap')\n"
   ]
  },
  {
   "cell_type": "code",
   "execution_count": null,
   "metadata": {
    "collapsed": false
   },
   "outputs": [],
   "source": [
    "Y_valid.head()"
   ]
  },
  {
   "cell_type": "code",
   "execution_count": null,
   "metadata": {
    "collapsed": true
   },
   "outputs": [],
   "source": []
  },
  {
   "cell_type": "code",
   "execution_count": null,
   "metadata": {
    "collapsed": true
   },
   "outputs": [],
   "source": []
  },
  {
   "cell_type": "code",
   "execution_count": null,
   "metadata": {
    "collapsed": true
   },
   "outputs": [],
   "source": []
  },
  {
   "cell_type": "code",
   "execution_count": null,
   "metadata": {
    "collapsed": true
   },
   "outputs": [],
   "source": []
  },
  {
   "cell_type": "markdown",
   "metadata": {
    "collapsed": true
   },
   "source": [
    "## Submission File"
   ]
  },
  {
   "cell_type": "code",
   "execution_count": null,
   "metadata": {
    "collapsed": true
   },
   "outputs": [],
   "source": [
    "raw_data_submission=pd.read_csv(\"Data/test.csv\")"
   ]
  },
  {
   "cell_type": "code",
   "execution_count": null,
   "metadata": {
    "collapsed": false
   },
   "outputs": [],
   "source": [
    "raw_data_submission.head()"
   ]
  },
  {
   "cell_type": "code",
   "execution_count": null,
   "metadata": {
    "collapsed": true
   },
   "outputs": [],
   "source": [
    "def datapreprocess(data):\n",
    "    X=data.apply(pd.to_numeric, errors='ignore')\n",
    "    \n",
    "    # Drop Passenger ID\n",
    "    X.drop(\"PassengerId\", axis=1, inplace=True)\n",
    "    \n",
    "    # Work on Title\n",
    "    X['Title'] = X.Name.str.extract(r',\\s*([^\\.]*)\\s*\\.', expand=False)\n",
    "    X['Title'] = X['Title'].replace(['Lady', 'the Countess','Capt', 'Col','Don', 'Dr', 'Major', 'Rev', 'Sir', 'Jonkheer', 'Dona'], 'Rare')\n",
    "    X['Title'] = X['Title'].replace('Mlle', 'Miss')\n",
    "    X['Title'] = X['Title'].replace('Ms', 'Miss')\n",
    "    X['Title'] = X['Title'].replace('Mme', 'Mrs')\n",
    "    X=pd.concat([X,pd.get_dummies(X[\"Title\"])], axis=1)\n",
    "    X.drop(\"Title\", axis=1, inplace=True)\n",
    "    \n",
    "    # Work on Sex\n",
    "    X['Sex'] = X['Sex'].map( {'female': 0, 'male': 1} ).astype(int)\n",
    "    \n",
    "    # Work on Age\n",
    "    X['Age'].fillna(-9, inplace=True) # notify missing values to the algorithm\n",
    "    \n",
    "    # Work on Embarked\n",
    "    X['Embarked'] = X['Embarked'].fillna('S')\n",
    "    X['Embarked'] = X['Embarked'].map( {'S': 0, 'C': 1, 'Q': 2} ).astype(int)\n",
    "    \n",
    "    # Work on family size\n",
    "    X[\"FamilySize\"]=X[\"SibSp\"]+X[\"Parch\"]+1\n",
    "    X.drop(\"SibSp\", axis=1, inplace=True)\n",
    "    X.drop(\"Parch\", axis=1,inplace=True)\n",
    "    \n",
    "    X['IsAlone'] = 0\n",
    "    X.loc[X['FamilySize'] == 1, 'IsAlone'] = 1\n",
    "    \n",
    "    # Work on cabin\n",
    "    X['Has_Cabin'] = X[\"Cabin\"].apply(lambda x: 0 if type(x) == float else 1)\n",
    "    \n",
    "    # Exclude Objets\n",
    "    X=X.select_dtypes(exclude=['object'])\n",
    "    \n",
    "    # Work on fare\n",
    "    from sklearn.preprocessing import Imputer\n",
    "    imp = Imputer(missing_values='NaN',strategy='median', axis=1)\n",
    "    X=pd.DataFrame(imp.fit_transform(X),columns=X.columns.values)\n",
    "    \n",
    "    # Scale\n",
    "    #from sklearn import preprocessing\n",
    "    #X=pd.DataFrame(preprocessing.scale(X,axis=0))\n",
    "    \n",
    "    return X"
   ]
  },
  {
   "cell_type": "code",
   "execution_count": null,
   "metadata": {
    "collapsed": false
   },
   "outputs": [],
   "source": [
    "clean_data_submission=datapreprocess(raw_data_submission)"
   ]
  },
  {
   "cell_type": "code",
   "execution_count": null,
   "metadata": {
    "collapsed": false
   },
   "outputs": [],
   "source": [
    "clean_data_submission.head()"
   ]
  },
  {
   "cell_type": "code",
   "execution_count": null,
   "metadata": {
    "collapsed": true
   },
   "outputs": [],
   "source": [
    "y_sub = rf_gs_cv.predict(clean_data_submission)"
   ]
  },
  {
   "cell_type": "code",
   "execution_count": null,
   "metadata": {
    "collapsed": true
   },
   "outputs": [],
   "source": [
    "submission = pd.DataFrame({ 'PassengerId': raw_data_submission.PassengerId,\n",
    "                            'Survived': y_sub })"
   ]
  },
  {
   "cell_type": "code",
   "execution_count": null,
   "metadata": {
    "collapsed": true
   },
   "outputs": [],
   "source": [
    "submission.to_csv(\"RandomForestSubmission.csv\", index=False)"
   ]
  },
  {
   "cell_type": "code",
   "execution_count": null,
   "metadata": {
    "collapsed": true
   },
   "outputs": [],
   "source": []
  }
 ],
 "metadata": {
  "kernelspec": {
   "display_name": "Python [conda root]",
   "language": "python",
   "name": "conda-root-py"
  },
  "language_info": {
   "codemirror_mode": {
    "name": "ipython",
    "version": 3
   },
   "file_extension": ".py",
   "mimetype": "text/x-python",
   "name": "python",
   "nbconvert_exporter": "python",
   "pygments_lexer": "ipython3",
   "version": "3.5.2"
  }
 },
 "nbformat": 4,
 "nbformat_minor": 2
}
